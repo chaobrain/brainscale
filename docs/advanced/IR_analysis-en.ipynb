{
 "cells": [
  {
   "metadata": {},
   "cell_type": "markdown",
   "source": [
    "# IR Analysis and Optimization\n",
    "\n",
    "The core capability of the brainscale framework lies in converting user-defined neural network models into efficient Intermediate Representation (IR) and performing deep analysis and optimization based on this representation. By extracting information flow and dependency relationships between key components of the model, brainscale can generate efficient online learning training code, enabling fast training and inference of neural networks.\n",
    "\n",
    "This guide provides a comprehensive introduction to the IR analysis and optimization process in brainscale, including:\n",
    "- **Model Information Extraction**: Obtaining complete structural information of the model\n",
    "- **State Group Analysis**: Identifying sets of interdependent state variables\n",
    "- **Parameter-State Relationships**: Analyzing connection relationships between parameters and hidden states\n",
    "- **State Perturbation Mechanism**: Implementing efficient gradient computation and optimization\n",
    "\n",
    "## Environment Setup and Model Preparation\n",
    "\n",
    "### Dependency Imports"
   ],
   "id": "49076e690788b665"
  },
  {
   "metadata": {
    "ExecuteTime": {
     "end_time": "2025-07-22T07:47:36.181247Z",
     "start_time": "2025-07-22T07:47:34.675758Z"
    }
   },
   "cell_type": "code",
   "source": [
    "import brainscale\n",
    "import brainstate\n",
    "import brainunit as u\n",
    "\n",
    "# Set up simulation environment\n",
    "brainstate.environ.set(dt=0.1 * u.ms)"
   ],
   "id": "78533bed942d2ddd",
   "outputs": [],
   "execution_count": 1
  },
  {
   "metadata": {},
   "cell_type": "markdown",
   "source": [
    "We use the ALIF model + STP synapse model from brainscale for testing as an example. This model is defined in `brainscale._etrace_model_test`.\n",
    "\n",
    "### Example Model\n",
    "\n",
    "We use brainscale's built-in ALIF (Adaptive Leaky Integrate-and-Fire) neuron model combined with STP (Short-Term Plasticity) synapse model as a demonstration case:"
   ],
   "id": "e7dff82f20bcfd18"
  },
  {
   "metadata": {
    "ExecuteTime": {
     "end_time": "2025-07-22T07:47:36.981204Z",
     "start_time": "2025-07-22T07:47:36.244102Z"
    }
   },
   "cell_type": "code",
   "source": [
    "from brainscale._etrace_model_test import ALIF_STPExpCu_Dense_Layer\n",
    "\n",
    "# Create network instance\n",
    "n_in = 3    # Input dimension\n",
    "n_rec = 4   # Recurrent layer dimension\n",
    "\n",
    "net = ALIF_STPExpCu_Dense_Layer(n_in, n_rec)\n",
    "brainstate.nn.init_all_states(net)\n",
    "\n",
    "# Prepare input data\n",
    "input_data = brainstate.random.rand(n_in)"
   ],
   "id": "276766ca8a9ac2be",
   "outputs": [],
   "execution_count": 2
  },
  {
   "metadata": {},
   "cell_type": "markdown",
   "source": [
    "## 1. Model Information Extraction: `ModuleInfo`\n",
    "\n",
    "### 1.1 What is ModuleInfo\n",
    "\n",
    "`ModuleInfo` is brainscale's complete description of neural network models, containing all key information of the model:\n",
    "- **Input/Output Interface**: Data flow entry and exit points of the model\n",
    "- **State Variables**: Dynamic variables such as neuron states and synaptic states\n",
    "- **Parameter Variables**: Trainable parameters such as weights and biases\n",
    "- **Computational Graph Structure**: Computational logic in JAX expression form\n",
    "\n",
    "### 1.2 Extracting Model Information"
   ],
   "id": "d52b4201316dcf02"
  },
  {
   "metadata": {
    "ExecuteTime": {
     "end_time": "2025-07-22T07:47:37.041102Z",
     "start_time": "2025-07-22T07:47:37.001510Z"
    }
   },
   "cell_type": "code",
   "source": [
    "# Extract complete model information\n",
    "info = brainscale.extract_module_info(net, input_data)\n",
    "print(\"Model information extraction completed\")\n",
    "print(f\"Number of hidden states: {len(info.hidden_path_to_invar)}\")\n",
    "print(f\"Number of compiled model states: {len(info.compiled_model_states)}\")"
   ],
   "id": "6dfc7bd4f92eac1",
   "outputs": [
    {
     "name": "stdout",
     "output_type": "stream",
     "text": [
      "Model information extraction completed\n",
      "Number of hidden states: 5\n",
      "Number of compiled model states: 6\n"
     ]
    }
   ],
   "execution_count": 3
  },
  {
   "metadata": {},
   "cell_type": "markdown",
   "source": [
    "### 1.3 Core Components of ModuleInfo Explained\n",
    "\n",
    "#### Hidden State Mapping Relationships\n",
    "- **`hidden_path_to_invar`**: Hidden state path → input variable mapping\n",
    "- **`hidden_path_to_outvar`**: Hidden state path → output variable mapping\n",
    "- **`invar_to_hidden_path`**: Input variable → hidden state path mapping\n",
    "- **`outvar_to_hidden_path`**: Output variable → hidden state path mapping\n",
    "- **`hidden_outvar_to_invar`**: State transfer relationship from output variables to input variables\n",
    "\n",
    "#### Training Parameter Management\n",
    "- **`weight_invars`**: List of input variables for all trainable parameters\n",
    "- **`weight_path_to_invars`**: Mapping relationship from parameter paths to variables\n",
    "- **`invar_to_weight_path`**: Reverse mapping from variables to parameter paths\n",
    "\n",
    "#### Computational Graph Representation\n",
    "- **`closed_jaxpr`**: Closed JAX expression of the model, describing the complete computational flow\n",
    "\n",
    "### 1.4 Practical Application Examples"
   ],
   "id": "228050254401ebd6"
  },
  {
   "metadata": {
    "ExecuteTime": {
     "end_time": "2025-07-22T07:47:37.052659Z",
     "start_time": "2025-07-22T07:47:37.047270Z"
    }
   },
   "cell_type": "code",
   "source": [
    "# View specific paths of hidden states\n",
    "print(\"=== Hidden State Paths ===\")\n",
    "for path, var in info.hidden_path_to_invar.items():\n",
    "    print(f\"Path: {path}\")\n",
    "    print(f\"Variable: {var}\")\n",
    "    print(\"---\")\n",
    "\n",
    "# View training parameter information\n",
    "print(\"=== Training Parameter Information ===\")\n",
    "for path, invars in info.weight_path_to_invars.items():\n",
    "    print(f\"Parameter path: {path}\")\n",
    "    print(f\"Number of variables: {len(invars)}\")\n",
    "    for i, var in enumerate(invars):\n",
    "        print(f\"  Variable{i}: {var}\")"
   ],
   "id": "9a52b7d4e182fd2",
   "outputs": [
    {
     "name": "stdout",
     "output_type": "stream",
     "text": [
      "=== Hidden State Paths ===\n",
      "Path: ('neu', 'V')\n",
      "Variable: Var(id=2593518192448):float32[4]\n",
      "---\n",
      "Path: ('neu', 'a')\n",
      "Variable: Var(id=2593518192512):float32[4]\n",
      "---\n",
      "Path: ('stp', 'u')\n",
      "Variable: Var(id=2593518192576):float32[4]\n",
      "---\n",
      "Path: ('stp', 'x')\n",
      "Variable: Var(id=2593518192640):float32[4]\n",
      "---\n",
      "Path: ('neu', '_before_updates', \"(<class 'brainscale.nn.Expon'>, (4,), {'tau': 10. * msecond}) // (<class 'brainstate.nn.CUBA'>, (), {})\", 'syn', 'g')\n",
      "Variable: Var(id=2593518192896):float32[4]\n",
      "---\n",
      "=== Training Parameter Information ===\n",
      "Parameter path: ('syn', 'comm', 'weight_op')\n",
      "Number of variables: 2\n",
      "  Variable0: Var(id=2593518192768):float32[4]\n",
      "  Variable1: Var(id=2593518192832):float32[7,4]\n"
     ]
    }
   ],
   "execution_count": 4
  },
  {
   "metadata": {},
   "cell_type": "markdown",
   "source": [
    "## 2. State Group Analysis: `HiddenGroup`\n",
    "\n",
    "### 2.1 Concept of State Groups\n",
    "\n",
    "State Groups (HiddenGroup) are an important concept in brainscale that organize state variables in the model with the following characteristics:\n",
    "- **Interdependence**: Direct or indirect dependency relationships exist between state variables\n",
    "- **Element-wise Operations**: Operations between variables are primarily element-wise mathematical operations\n",
    "- **Synchronized Updates**: These states need coordinated updates within time steps\n",
    "\n",
    "### 2.2 State Group Extraction"
   ],
   "id": "9eb5cbd83340336c"
  },
  {
   "metadata": {
    "ExecuteTime": {
     "end_time": "2025-07-22T07:47:37.117107Z",
     "start_time": "2025-07-22T07:47:37.112772Z"
    }
   },
   "cell_type": "code",
   "source": [
    "# Extract state groups from ModuleInfo\n",
    "hidden_groups, hid_path_to_group = brainscale.find_hidden_groups_from_minfo(info)\n",
    "\n",
    "print(f\"Number of state groups discovered: {len(hidden_groups)}\")\n",
    "print(f\"Number of state path to group mappings: {len(hid_path_to_group)}\")"
   ],
   "id": "623a36dbac9ceffd",
   "outputs": [
    {
     "name": "stdout",
     "output_type": "stream",
     "text": [
      "Number of state groups discovered: 1\n",
      "Number of state path to group mappings: 5\n"
     ]
    }
   ],
   "execution_count": 5
  },
  {
   "metadata": {},
   "cell_type": "markdown",
   "source": "### 2.3 State Group Structure Analysis",
   "id": "b93b0cf61f557c2"
  },
  {
   "metadata": {
    "ExecuteTime": {
     "end_time": "2025-07-22T07:47:37.188151Z",
     "start_time": "2025-07-22T07:47:37.183804Z"
    }
   },
   "cell_type": "code",
   "source": [
    "# Detailed analysis of the first state group\n",
    "if hidden_groups:\n",
    "    group = hidden_groups[0]\n",
    "    print(\"=== Detailed State Group Information ===\")\n",
    "    print(f\"Group index: {group.index}\")\n",
    "    print(f\"Number of state paths included: {len(group.hidden_paths)}\")\n",
    "    print(f\"Number of hidden states: {len(group.hidden_states)}\")\n",
    "    print(f\"Number of input variables: {len(group.hidden_invars)}\")\n",
    "    print(f\"Number of output variables: {len(group.hidden_outvars)}\")\n",
    "\n",
    "    print(\"\\n--- State Path List ---\")\n",
    "    for i, path in enumerate(group.hidden_paths):\n",
    "        print(f\"{i+1}. {path}\")"
   ],
   "id": "c301dfe67be6ff8",
   "outputs": [
    {
     "name": "stdout",
     "output_type": "stream",
     "text": [
      "=== Detailed State Group Information ===\n",
      "Group index: 0\n",
      "Number of state paths included: 5\n",
      "Number of hidden states: 5\n",
      "Number of input variables: 5\n",
      "Number of output variables: 5\n",
      "\n",
      "--- State Path List ---\n",
      "1. ('stp', 'u')\n",
      "2. ('stp', 'x')\n",
      "3. ('neu', 'V')\n",
      "4. ('neu', '_before_updates', \"(<class 'brainscale.nn.Expon'>, (4,), {'tau': 10. * msecond}) // (<class 'brainstate.nn.CUBA'>, (), {})\", 'syn', 'g')\n",
      "5. ('neu', 'a')\n"
     ]
    }
   ],
   "execution_count": 6
  },
  {
   "metadata": {},
   "cell_type": "markdown",
   "source": [
    "### 2.4 Practical Significance of State Groups\n",
    "\n",
    "State group identification is important for optimization:\n",
    "- **Parallel Computing**: Operations within the same state group can be executed in parallel\n",
    "- **Memory Optimization**: Related states can be arranged compactly in memory\n",
    "- **Gradient Computation**: Simplifies the computational graph structure for backpropagation\n",
    "\n",
    "## 3. Parameter-State Relationship Analysis: `HiddenParamOpRelation`\n",
    "\n",
    "### 3.1 Definition of Relationship Groups\n",
    "\n",
    "`HiddenParamOpRelation` describes the operational relationships between training parameters and hidden states, which is key to understanding the model's learning mechanism:\n",
    "- **Parameter Operations**: How weights act on state variables\n",
    "- **Connection Patterns**: Which hidden states are affected by parameters\n",
    "- **Computational Dependencies**: How parameter updates affect state transitions\n",
    "\n",
    "### 3.2 Relationship Extraction"
   ],
   "id": "bffd0d8f3bacbe75"
  },
  {
   "metadata": {
    "ExecuteTime": {
     "end_time": "2025-07-22T07:47:37.266930Z",
     "start_time": "2025-07-22T07:47:37.263901Z"
    }
   },
   "cell_type": "code",
   "source": [
    "# Extract parameter-state relationships\n",
    "hidden_param_op = brainscale.find_hidden_param_op_relations_from_minfo(info, hid_path_to_group)\n",
    "\n",
    "print(f\"Number of parameter-state relationships discovered: {len(hidden_param_op)}\")"
   ],
   "id": "b2b53c5a80f30e2b",
   "outputs": [
    {
     "name": "stdout",
     "output_type": "stream",
     "text": [
      "Number of parameter-state relationships discovered: 1\n"
     ]
    }
   ],
   "execution_count": 7
  },
  {
   "metadata": {},
   "cell_type": "markdown",
   "source": "### 3.3 Detailed Relationship Structure",
   "id": "e938cb03ceb23f0e"
  },
  {
   "metadata": {
    "ExecuteTime": {
     "end_time": "2025-07-22T07:47:37.351127Z",
     "start_time": "2025-07-22T07:47:37.346099Z"
    }
   },
   "cell_type": "code",
   "source": [
    "if hidden_param_op:\n",
    "    relation = hidden_param_op[0]\n",
    "    print(\"=== Parameter-State Relationship Details ===\")\n",
    "    print(f\"Parameter path: {relation.path}\")\n",
    "    print(f\"Input variable x: {relation.x}\")\n",
    "    print(f\"Output variable y: {relation.y}\")\n",
    "    print(f\"Number of affected hidden groups: {len(relation.hidden_groups)}\")\n",
    "    print(f\"Number of connected hidden paths: {len(relation.connected_hidden_paths)}\")\n",
    "\n",
    "    print(\"\\n--- Connected Hidden Paths ---\")\n",
    "    for path in relation.connected_hidden_paths:\n",
    "        print(f\"  {path}\")"
   ],
   "id": "dce2e81c3c5a7cb3",
   "outputs": [
    {
     "name": "stdout",
     "output_type": "stream",
     "text": [
      "=== Parameter-State Relationship Details ===\n",
      "Parameter path: ('syn', 'comm', 'weight_op')\n",
      "Input variable x: Var(id=2593518203520):float32[7]\n",
      "Output variable y: Var(id=2593518203712):float32[4]\n",
      "Number of affected hidden groups: 1\n",
      "Number of connected hidden paths: 2\n",
      "\n",
      "--- Connected Hidden Paths ---\n",
      "  ('neu', '_before_updates', \"(<class 'brainscale.nn.Expon'>, (4,), {'tau': 10. * msecond}) // (<class 'brainstate.nn.CUBA'>, (), {})\", 'syn', 'g')\n",
      "  ('neu', 'V')\n"
     ]
    }
   ],
   "execution_count": 8
  },
  {
   "metadata": {},
   "cell_type": "markdown",
   "source": [
    "### 3.4 Gradient Computation Optimization\n",
    "\n",
    "Analysis of parameter-state relationships enables brainscale to:\n",
    "- **Precise Tracking**: Determine which states are affected by parameter updates\n",
    "- **Efficient Computation**: Only compute necessary gradient paths\n",
    "- **Memory Savings**: Avoid storing unnecessary intermediate gradients\n",
    "\n",
    "## 4. State Perturbation Mechanism: `HiddenStatePerturbation`\n",
    "\n",
    "### 4.1 Perturbation Mechanism Principles\n",
    "\n",
    "State perturbation is the core technology of brainscale for implementing efficient gradient computation. By applying small perturbations to hidden states $y = f(x, h+\\Delta)$, where $\\Delta \\to 0$, the system can:\n",
    "- **Numerical Gradients**: Compute gradients through finite differences\n",
    "- **Automatic Differentiation**: Build efficient backpropagation graphs\n",
    "\n",
    "### 4.2 Perturbation Information Extraction"
   ],
   "id": "96312fa0afd9a263"
  },
  {
   "metadata": {
    "ExecuteTime": {
     "end_time": "2025-07-22T07:47:37.436509Z",
     "start_time": "2025-07-22T07:47:37.432384Z"
    }
   },
   "cell_type": "code",
   "source": [
    "# Extract state perturbation information\n",
    "hidden_perturb = brainscale.add_hidden_perturbation_from_minfo(info)\n",
    "\n",
    "print(\"=== State Perturbation Information ===\")\n",
    "print(f\"Number of perturbation variables: {len(hidden_perturb.perturb_vars)}\")\n",
    "print(f\"Number of perturbation paths: {len(hidden_perturb.perturb_hidden_paths)}\")\n",
    "print(f\"Number of perturbation states: {len(hidden_perturb.perturb_hidden_states)}\")"
   ],
   "id": "495737f463c2ccd",
   "outputs": [
    {
     "name": "stdout",
     "output_type": "stream",
     "text": [
      "=== State Perturbation Information ===\n",
      "Number of perturbation variables: 5\n",
      "Number of perturbation paths: 5\n",
      "Number of perturbation states: 5\n"
     ]
    }
   ],
   "execution_count": 9
  },
  {
   "metadata": {},
   "cell_type": "markdown",
   "source": "### 4.3 Perturbation Path Analysis",
   "id": "8fecf2345c80b98d"
  },
  {
   "metadata": {
    "ExecuteTime": {
     "end_time": "2025-07-22T07:47:37.647956Z",
     "start_time": "2025-07-22T07:47:37.643918Z"
    }
   },
   "cell_type": "code",
   "source": [
    "print(\"\\n--- Perturbation Path Details ---\")\n",
    "for i, (path, var, state) in enumerate(\n",
    "    zip(\n",
    "        hidden_perturb.perturb_hidden_paths,\n",
    "        hidden_perturb.perturb_vars,\n",
    "        hidden_perturb.perturb_hidden_states\n",
    "    )\n",
    "):\n",
    "    print(f\"{i+1}. Path: {path}\")\n",
    "    print(f\"   Variable: {var}\")\n",
    "    print(f\"   State type: {type(state).__name__}\")\n",
    "    print(\"---\")"
   ],
   "id": "57b5617fc0629",
   "outputs": [
    {
     "name": "stdout",
     "output_type": "stream",
     "text": [
      "\n",
      "--- Perturbation Path Details ---\n",
      "1. Path: ('stp', 'u')\n",
      "   Variable: Var(id=2593518099072):float32[4]\n",
      "   State type: ETraceState\n",
      "---\n",
      "2. Path: ('stp', 'x')\n",
      "   Variable: Var(id=2593518150208):float32[4]\n",
      "   State type: ETraceState\n",
      "---\n",
      "3. Path: ('neu', '_before_updates', \"(<class 'brainscale.nn.Expon'>, (4,), {'tau': 10. * msecond}) // (<class 'brainstate.nn.CUBA'>, (), {})\", 'syn', 'g')\n",
      "   Variable: Var(id=2593518143808):float32[4]\n",
      "   State type: ETraceState\n",
      "---\n",
      "4. Path: ('neu', 'V')\n",
      "   Variable: Var(id=2593518141952):float32[4]\n",
      "   State type: ETraceState\n",
      "---\n",
      "5. Path: ('neu', 'a')\n",
      "   Variable: Var(id=2593518143360):float32[4]\n",
      "   State type: ETraceState\n",
      "---\n"
     ]
    }
   ],
   "execution_count": 10
  },
  {
   "metadata": {},
   "cell_type": "markdown",
   "source": [
    "### 4.4 Role of Perturbation in Training\n",
    "\n",
    "- **Gradient Precision**: Provides high-precision gradient estimation\n",
    "- **Computational Efficiency**: Reduces unnecessary computational overhead\n",
    "- **Numerical Stability**: Maintains numerical stability of the training process\n",
    "\n",
    "## Summary\n",
    "\n",
    "This guide provides a comprehensive introduction to the core concepts and practical methods of IR analysis and optimization in the brainscale framework. Through deep understanding of model information extraction, state group analysis, parameter relationship analysis, and state perturbation mechanisms, developers can:\n",
    "\n",
    "- **Improve Performance**: Significantly enhance model training and inference efficiency through IR optimization\n",
    "- **Enhance Understanding**: Gain deep insights into the internal structure and computational flow of neural network models\n",
    "- **Optimize Design**: Design more efficient model architectures based on analysis results\n",
    "- **Debugging Capabilities**: Quickly locate and solve problems in model training\n",
    "\n",
    "The IR analysis capabilities of brainscale provide powerful tool support for efficient implementation of neural networks and serve as an important foundation for achieving high-performance online learning. Users can now customize IR analysis and optimization processes to meet specific application requirements."
   ],
   "id": "2a75e72100b8fa89"
  }
 ],
 "metadata": {
  "kernelspec": {
   "display_name": "Python 3",
   "language": "python",
   "name": "python3"
  },
  "language_info": {
   "codemirror_mode": {
    "name": "ipython",
    "version": 2
   },
   "file_extension": ".py",
   "mimetype": "text/x-python",
   "name": "python",
   "nbconvert_exporter": "python",
   "pygments_lexer": "ipython2",
   "version": "2.7.6"
  }
 },
 "nbformat": 4,
 "nbformat_minor": 5
}
