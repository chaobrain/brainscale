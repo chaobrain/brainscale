{
 "cells": [
  {
   "metadata": {},
   "cell_type": "markdown",
   "source": [
    "# IR分析和优化\n",
    "\n",
    "brainscale框架的核心能力在于将用户定义的神经网络模型转换为高效的中间表示（Intermediate Representation, IR），并在此基础上进行深度分析和优化。通过提取模型关键组成部分之间的信息流和依赖关系，brainscale能够生成高效的在线学习训练代码，实现神经网络的快速训练和推理。\n",
    "\n",
    "本指南将全面介绍brainscale中的IR分析和优化流程，包括：\n",
    "- **模型信息提取**：获取模型的完整结构信息\n",
    "- **状态群分析**：识别相互依赖的状态变量集合\n",
    "- **参数-状态关系**：分析参数与隐藏状态的连接关系\n",
    "- **状态扰动机制**：实现高效的梯度计算和优化\n",
    "\n",
    "## 环境设置和模型准备\n",
    "\n",
    "### 依赖导入"
   ],
   "id": "dbb6e6407f6c001b"
  },
  {
   "metadata": {
    "ExecuteTime": {
     "end_time": "2025-07-22T07:48:35.888465Z",
     "start_time": "2025-07-22T07:48:35.885073Z"
    }
   },
   "cell_type": "code",
   "source": [
    "import brainscale\n",
    "import brainstate\n",
    "import brainunit as u\n",
    "from pprint import pprint\n",
    "\n",
    "# 设置仿真环境\n",
    "brainstate.environ.set(dt=0.1 * u.ms)"
   ],
   "id": "84cf5663f1700652",
   "outputs": [],
   "execution_count": 11
  },
  {
   "metadata": {},
   "cell_type": "markdown",
   "source": "我们使用brainscale中用于测试的ALIF模型+STP突触模型作为示例。该模型的定义在`brainscale._etrace_model_test`中。",
   "id": "608fb5690fc09df1"
  },
  {
   "metadata": {},
   "cell_type": "markdown",
   "source": [
    "### 示例模型\n",
    "\n",
    "我们使用brainscale内置的ALIF（Adaptive Leaky Integrate-and-Fire）神经元模型结合STP（Short-Term Plasticity）突触模型作为演示案例："
   ],
   "id": "df5ff0c796a4de76"
  },
  {
   "metadata": {
    "ExecuteTime": {
     "end_time": "2025-07-22T07:48:36.031239Z",
     "start_time": "2025-07-22T07:48:35.999706Z"
    }
   },
   "cell_type": "code",
   "source": [
    "from brainscale._etrace_model_test import ALIF_STPExpCu_Dense_Layer\n",
    "\n",
    "# 创建网络实例\n",
    "n_in = 3    # 输入维度\n",
    "n_rec = 4   # 循环层维度\n",
    "\n",
    "net = ALIF_STPExpCu_Dense_Layer(n_in, n_rec)\n",
    "brainstate.nn.init_all_states(net)\n",
    "\n",
    "# 准备输入数据\n",
    "input_data = brainstate.random.rand(n_in)"
   ],
   "id": "57ce86a350ebb8c2",
   "outputs": [],
   "execution_count": 12
  },
  {
   "metadata": {},
   "cell_type": "markdown",
   "source": [
    "## 1. 模型信息提取：`ModuleInfo`\n",
    "\n",
    "### 1.1 什么是ModuleInfo\n",
    "\n",
    "`ModuleInfo`是brainscale对神经网络模型的完整描述，包含了模型的所有关键信息：\n",
    "- **输入输出接口**：模型的数据流入和流出点\n",
    "- **状态变量**：神经元状态、突触状态等动态变量\n",
    "- **参数变量**：权重、偏置等可训练参数\n",
    "- **计算图结构**：JAX表达式形式的计算逻辑\n",
    "\n",
    "### 1.2 提取模型信息"
   ],
   "id": "146ac8f3c9564335"
  },
  {
   "metadata": {
    "ExecuteTime": {
     "end_time": "2025-07-22T07:48:36.171708Z",
     "start_time": "2025-07-22T07:48:36.138045Z"
    }
   },
   "cell_type": "code",
   "source": [
    "# 提取模型的完整信息\n",
    "info = brainscale.extract_module_info(net, input_data)\n",
    "print(\"模型信息提取完成\")\n",
    "print(f\"隐藏状态数量: {len(info.hidden_path_to_invar)}\")\n",
    "print(f\"编译后状态数量: {len(info.compiled_model_states)}\")"
   ],
   "id": "f3d8ef639355d08a",
   "outputs": [
    {
     "name": "stdout",
     "output_type": "stream",
     "text": [
      "模型信息提取完成\n",
      "隐藏状态数量: 5\n",
      "编译后状态数量: 6\n"
     ]
    }
   ],
   "execution_count": 13
  },
  {
   "metadata": {},
   "cell_type": "markdown",
   "source": [
    "### 1.3 ModuleInfo核心组件详解\n",
    "\n",
    "#### 隐藏状态映射关系\n",
    "- **`hidden_path_to_invar`**：隐藏状态路径 → 输入变量映射\n",
    "- **`hidden_path_to_outvar`**：隐藏状态路径 → 输出变量映射\n",
    "- **`invar_to_hidden_path`**：输入变量 → 隐藏状态路径映射\n",
    "- **`outvar_to_hidden_path`**：输出变量 → 隐藏状态路径映射\n",
    "- **`hidden_outvar_to_invar`**：输出变量到输入变量的状态传递关系\n",
    "\n",
    "#### 训练参数管理\n",
    "- **`weight_invars`**：所有可训练参数的输入变量列表\n",
    "- **`weight_path_to_invars`**：参数路径到变量的映射关系\n",
    "- **`invar_to_weight_path`**：变量到参数路径的反向映射\n",
    "\n",
    "#### 计算图表示\n",
    "- **`closed_jaxpr`**：模型的封闭式JAX表达式，描述完整的计算流程\n",
    "\n",
    "### 1.4 实际应用示例"
   ],
   "id": "816d1956386c1717"
  },
  {
   "metadata": {
    "ExecuteTime": {
     "end_time": "2025-07-22T07:48:36.188417Z",
     "start_time": "2025-07-22T07:48:36.184047Z"
    }
   },
   "cell_type": "code",
   "source": [
    "# 查看隐藏状态的具体路径\n",
    "print(\"=== 隐藏状态路径 ===\")\n",
    "for path, var in info.hidden_path_to_invar.items():\n",
    "    print(f\"路径: {path}\")\n",
    "    print(f\"变量: {var}\")\n",
    "    print(\"---\")\n",
    "\n",
    "# 查看训练参数信息\n",
    "print(\"=== 训练参数信息 ===\")\n",
    "for path, invars in info.weight_path_to_invars.items():\n",
    "    print(f\"参数路径: {path}\")\n",
    "    print(f\"变量数量: {len(invars)}\")\n",
    "    for i, var in enumerate(invars):\n",
    "        print(f\"  变量{i}: {var}\")"
   ],
   "id": "ae535dcd56fe62d7",
   "outputs": [
    {
     "name": "stdout",
     "output_type": "stream",
     "text": [
      "=== 隐藏状态路径 ===\n",
      "路径: ('neu', 'V')\n",
      "变量: Var(id=2631676988224):float32[4]\n",
      "---\n",
      "路径: ('neu', 'a')\n",
      "变量: Var(id=2631676993728):float32[4]\n",
      "---\n",
      "路径: ('stp', 'u')\n",
      "变量: Var(id=2631676993856):float32[4]\n",
      "---\n",
      "路径: ('stp', 'x')\n",
      "变量: Var(id=2631676993664):float32[4]\n",
      "---\n",
      "路径: ('neu', '_before_updates', \"(<class 'brainscale.nn.Expon'>, (4,), {'tau': 10. * msecond}) // (<class 'brainstate.nn.CUBA'>, (), {})\", 'syn', 'g')\n",
      "变量: Var(id=2631676994176):float32[4]\n",
      "---\n",
      "=== 训练参数信息 ===\n",
      "参数路径: ('syn', 'comm', 'weight_op')\n",
      "变量数量: 2\n",
      "  变量0: Var(id=2631676993536):float32[4]\n",
      "  变量1: Var(id=2631676993984):float32[7,4]\n"
     ]
    }
   ],
   "execution_count": 14
  },
  {
   "metadata": {},
   "cell_type": "markdown",
   "source": [
    "## 2. 状态群分析：`HiddenGroup`\n",
    "\n",
    "### 2.1 状态群的概念\n",
    "\n",
    "状态群（HiddenGroup）是brainscale中的重要概念，它将模型中具有以下特征的状态变量组织在一起：\n",
    "- **相互依赖**：状态变量之间存在直接或间接的依赖关系\n",
    "- **逐元素运算**：变量间的操作主要是逐元素的数学运算\n",
    "- **同步更新**：这些状态在时间步内需要协调更新\n",
    "\n",
    "### 2.2 状态群提取\n"
   ],
   "id": "14cd2ed1526a7692"
  },
  {
   "metadata": {
    "ExecuteTime": {
     "end_time": "2025-07-22T07:48:36.381341Z",
     "start_time": "2025-07-22T07:48:36.377514Z"
    }
   },
   "cell_type": "code",
   "source": [
    "# 从ModuleInfo中提取状态群\n",
    "hidden_groups, hid_path_to_group = brainscale.find_hidden_groups_from_minfo(info)\n",
    "\n",
    "print(f\"发现状态群数量: {len(hidden_groups)}\")\n",
    "print(f\"状态路径到群组的映射数量: {len(hid_path_to_group)}\")"
   ],
   "id": "39b77b922b0487e2",
   "outputs": [
    {
     "name": "stdout",
     "output_type": "stream",
     "text": [
      "发现状态群数量: 1\n",
      "状态路径到群组的映射数量: 5\n"
     ]
    }
   ],
   "execution_count": 15
  },
  {
   "metadata": {},
   "cell_type": "markdown",
   "source": "### 2.3 状态群结构分析\n",
   "id": "7735585550c46c1f"
  },
  {
   "metadata": {
    "ExecuteTime": {
     "end_time": "2025-07-22T07:48:36.497664Z",
     "start_time": "2025-07-22T07:48:36.493131Z"
    }
   },
   "cell_type": "code",
   "source": [
    "# 详细分析第一个状态群\n",
    "if hidden_groups:\n",
    "    group = hidden_groups[0]\n",
    "    print(\"=== 状态群详细信息 ===\")\n",
    "    print(f\"群组索引: {group.index}\")\n",
    "    print(f\"包含状态路径数量: {len(group.hidden_paths)}\")\n",
    "    print(f\"隐藏状态数量: {len(group.hidden_states)}\")\n",
    "    print(f\"输入变量数量: {len(group.hidden_invars)}\")\n",
    "    print(f\"输出变量数量: {len(group.hidden_outvars)}\")\n",
    "\n",
    "    print(\"\\n--- 状态路径列表 ---\")\n",
    "    for i, path in enumerate(group.hidden_paths):\n",
    "        print(f\"{i+1}. {path}\")"
   ],
   "id": "abc0764f0857094a",
   "outputs": [
    {
     "name": "stdout",
     "output_type": "stream",
     "text": [
      "=== 状态群详细信息 ===\n",
      "群组索引: 0\n",
      "包含状态路径数量: 5\n",
      "隐藏状态数量: 5\n",
      "输入变量数量: 5\n",
      "输出变量数量: 5\n",
      "\n",
      "--- 状态路径列表 ---\n",
      "1. ('neu', 'V')\n",
      "2. ('neu', 'a')\n",
      "3. ('stp', 'u')\n",
      "4. ('stp', 'x')\n",
      "5. ('neu', '_before_updates', \"(<class 'brainscale.nn.Expon'>, (4,), {'tau': 10. * msecond}) // (<class 'brainstate.nn.CUBA'>, (), {})\", 'syn', 'g')\n"
     ]
    }
   ],
   "execution_count": 16
  },
  {
   "metadata": {},
   "cell_type": "markdown",
   "source": [
    "### 2.4 状态群的实际意义\n",
    "\n",
    "状态群的识别对于优化具有重要意义：\n",
    "- **并行计算**：同一状态群内的操作可以并行执行\n",
    "- **内存优化**：相关状态可以在内存中紧密排列\n",
    "- **梯度计算**：简化反向传播的计算图结构"
   ],
   "id": "463536a7d4470fe2"
  },
  {
   "metadata": {},
   "cell_type": "markdown",
   "source": [
    "## 3. 参数-状态关系分析：`HiddenParamOpRelation`\n",
    "\n",
    "### 3.1 关系组的定义\n",
    "\n",
    "`HiddenParamOpRelation`描述了训练参数与隐藏状态之间的操作关系，这是理解模型学习机制的关键：\n",
    "- **参数操作**：权重如何作用于状态变量\n",
    "- **连接模式**：参数影响哪些隐藏状态\n",
    "- **计算依赖**：参数更新如何影响状态转移\n",
    "\n",
    "### 3.2 关系提取\n"
   ],
   "id": "8891d695075a3d0f"
  },
  {
   "metadata": {
    "ExecuteTime": {
     "end_time": "2025-07-22T07:48:36.602244Z",
     "start_time": "2025-07-22T07:48:36.598765Z"
    }
   },
   "cell_type": "code",
   "source": [
    "# 提取参数-状态关系\n",
    "hidden_param_op = brainscale.find_hidden_param_op_relations_from_minfo(info, hid_path_to_group)\n",
    "\n",
    "print(f\"发现参数-状态关系数量: {len(hidden_param_op)}\")"
   ],
   "id": "22d8c92f2acb47cd",
   "outputs": [
    {
     "name": "stdout",
     "output_type": "stream",
     "text": [
      "发现参数-状态关系数量: 1\n"
     ]
    }
   ],
   "execution_count": 17
  },
  {
   "metadata": {},
   "cell_type": "markdown",
   "source": "### 3.3 关系结构详解\n",
   "id": "9394731b6f471093"
  },
  {
   "metadata": {
    "ExecuteTime": {
     "end_time": "2025-07-22T07:48:36.725944Z",
     "start_time": "2025-07-22T07:48:36.721742Z"
    }
   },
   "cell_type": "code",
   "source": [
    "if hidden_param_op:\n",
    "    relation = hidden_param_op[0]\n",
    "    print(\"=== 参数-状态关系详解 ===\")\n",
    "    print(f\"参数路径: {relation.path}\")\n",
    "    print(f\"输入变量x: {relation.x}\")\n",
    "    print(f\"输出变量y: {relation.y}\")\n",
    "    print(f\"影响的隐藏群组数量: {len(relation.hidden_groups)}\")\n",
    "    print(f\"连接的隐藏路径数量: {len(relation.connected_hidden_paths)}\")\n",
    "\n",
    "    print(\"\\n--- 连接的隐藏路径 ---\")\n",
    "    for path in relation.connected_hidden_paths:\n",
    "        print(f\"  {path}\")"
   ],
   "id": "edf4a28fffbf6a04",
   "outputs": [
    {
     "name": "stdout",
     "output_type": "stream",
     "text": [
      "=== 参数-状态关系详解 ===\n",
      "参数路径: ('syn', 'comm', 'weight_op')\n",
      "输入变量x: Var(id=2631677076224):float32[7]\n",
      "输出变量y: Var(id=2631677076416):float32[4]\n",
      "影响的隐藏群组数量: 1\n",
      "连接的隐藏路径数量: 2\n",
      "\n",
      "--- 连接的隐藏路径 ---\n",
      "  ('neu', 'V')\n",
      "  ('neu', '_before_updates', \"(<class 'brainscale.nn.Expon'>, (4,), {'tau': 10. * msecond}) // (<class 'brainstate.nn.CUBA'>, (), {})\", 'syn', 'g')\n"
     ]
    }
   ],
   "execution_count": 18
  },
  {
   "metadata": {},
   "cell_type": "markdown",
   "source": [
    "### 3.4 梯度计算优化\n",
    "\n",
    "参数-状态关系的分析使得brainscale能够：\n",
    "- **精确追踪**：确定参数更新对哪些状态产生影响\n",
    "- **高效计算**：只计算必要的梯度路径\n",
    "- **内存节省**：避免存储不必要的中间梯度\n"
   ],
   "id": "bf2ec568b258ed5b"
  },
  {
   "metadata": {},
   "cell_type": "markdown",
   "source": [
    "## 4. 状态扰动机制：`HiddenStatePerturbation`\n",
    "\n",
    "### 4.1 扰动机制原理\n",
    "\n",
    "状态扰动是brainscale实现高效梯度计算的核心技术。通过对隐藏状态施加微小扰动 $y = f(x, h+\\Delta)$，其中$\\Delta \\to 0$，系统能够：\n",
    "- **数值梯度**：通过有限差分计算梯度\n",
    "- **自动微分**：构建高效的反向传播图\n",
    "\n",
    "### 4.2 扰动信息提取"
   ],
   "id": "e02c681014b23433"
  },
  {
   "metadata": {
    "ExecuteTime": {
     "end_time": "2025-07-22T07:48:36.832454Z",
     "start_time": "2025-07-22T07:48:36.827658Z"
    }
   },
   "cell_type": "code",
   "source": [
    "# 提取状态扰动信息\n",
    "hidden_perturb = brainscale.add_hidden_perturbation_from_minfo(info)\n",
    "\n",
    "print(\"=== 状态扰动信息 ===\")\n",
    "print(f\"扰动变量数量: {len(hidden_perturb.perturb_vars)}\")\n",
    "print(f\"扰动路径数量: {len(hidden_perturb.perturb_hidden_paths)}\")\n",
    "print(f\"扰动状态数量: {len(hidden_perturb.perturb_hidden_states)}\")"
   ],
   "id": "8b5d5e648266a45c",
   "outputs": [
    {
     "name": "stdout",
     "output_type": "stream",
     "text": [
      "=== 状态扰动信息 ===\n",
      "扰动变量数量: 5\n",
      "扰动路径数量: 5\n",
      "扰动状态数量: 5\n"
     ]
    }
   ],
   "execution_count": 19
  },
  {
   "metadata": {},
   "cell_type": "markdown",
   "source": "### 4.3 扰动路径分析",
   "id": "d47f180e01552cc4"
  },
  {
   "metadata": {
    "ExecuteTime": {
     "end_time": "2025-07-22T07:48:36.947622Z",
     "start_time": "2025-07-22T07:48:36.942699Z"
    }
   },
   "cell_type": "code",
   "source": [
    "print(\"\\n--- 扰动路径详情 ---\")\n",
    "for i, (path, var, state) in enumerate(zip(\n",
    "    hidden_perturb.perturb_hidden_paths,\n",
    "    hidden_perturb.perturb_vars,\n",
    "    hidden_perturb.perturb_hidden_states\n",
    ")):\n",
    "    print(f\"{i+1}. 路径: {path}\")\n",
    "    print(f\"   变量: {var}\")\n",
    "    print(f\"   状态类型: {type(state).__name__}\")\n",
    "    print(\"---\")"
   ],
   "id": "491da5d4479fe595",
   "outputs": [
    {
     "name": "stdout",
     "output_type": "stream",
     "text": [
      "\n",
      "--- 扰动路径详情 ---\n",
      "1. 路径: ('neu', 'V')\n",
      "   变量: Var(id=2631597927936):float32[4]\n",
      "   状态类型: ETraceState\n",
      "---\n",
      "2. 路径: ('neu', 'a')\n",
      "   变量: Var(id=2631675656256):float32[4]\n",
      "   状态类型: ETraceState\n",
      "---\n",
      "3. 路径: ('stp', 'u')\n",
      "   变量: Var(id=2631675641984):float32[4]\n",
      "   状态类型: ETraceState\n",
      "---\n",
      "4. 路径: ('neu', '_before_updates', \"(<class 'brainscale.nn.Expon'>, (4,), {'tau': 10. * msecond}) // (<class 'brainstate.nn.CUBA'>, (), {})\", 'syn', 'g')\n",
      "   变量: Var(id=2631675657664):float32[4]\n",
      "   状态类型: ETraceState\n",
      "---\n",
      "5. 路径: ('stp', 'x')\n",
      "   变量: Var(id=2631675656832):float32[4]\n",
      "   状态类型: ETraceState\n",
      "---\n"
     ]
    }
   ],
   "execution_count": 20
  },
  {
   "metadata": {},
   "cell_type": "markdown",
   "source": [
    "### 4.4 扰动在训练中的作用\n",
    "\n",
    "- **梯度精度**：提供高精度的梯度估计\n",
    "- **计算效率**：减少不必要的计算开销\n",
    "- **数值稳定性**：保持训练过程的数值稳定"
   ],
   "id": "f2fdcdf7cc6a7ffe"
  },
  {
   "metadata": {},
   "cell_type": "markdown",
   "source": [
    "## 总结\n",
    "\n",
    "本指南全面介绍了brainscale框架中IR分析和优化的核心概念和实践方法。通过深入理解模型信息提取、状态群分析、参数关系分析和状态扰动机制，开发者能够：\n",
    "\n",
    "- **提升性能**：通过IR优化显著提高模型训练和推理效率\n",
    "- **增强理解**：深入了解神经网络模型的内部结构和计算流程\n",
    "- **优化设计**：基于分析结果设计更高效的模型架构\n",
    "- **调试能力**：快速定位和解决模型训练中的问题\n",
    "\n",
    "brainscale的IR分析能力为神经网络的高效实现提供了强大的工具支持，是实现高性能在线学习的重要基础。用户已可以自定义IR分析和优化流程，以满足特定应用需求。"
   ],
   "id": "6a5d217380009df3"
  }
 ],
 "metadata": {
  "kernelspec": {
   "display_name": "Python 3",
   "language": "python",
   "name": "python3"
  },
  "language_info": {
   "codemirror_mode": {
    "name": "ipython",
    "version": 2
   },
   "file_extension": ".py",
   "mimetype": "text/x-python",
   "name": "python",
   "nbconvert_exporter": "python",
   "pygments_lexer": "ipython2",
   "version": "2.7.6"
  }
 },
 "nbformat": 4,
 "nbformat_minor": 5
}
