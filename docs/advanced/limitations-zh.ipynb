{
 "cells": [
  {
   "metadata": {},
   "cell_type": "markdown",
   "source": [
    "# 局限性\n",
    "\n",
    "尽管 ``brainscale`` 提供了强大的编译工具，能够识别大多数 JAX 算子，但仍然存在一些局限性。这些局限性的主要原因在于 ``brainscale`` 在处理条件控制和功能增强函数时，无法有效自动识别模型状态与参数之间的关系，导致无法编译为 eligibility trace。\n",
    "\n",
    "目前，``brainscale``中的 ``ETraceState``、``ETraceOp``、 ``ETraceParam``等语法不支持以下 JAX 原语：\n",
    "\n",
    "- `jax.lax.cond`\n",
    "- `jax.lax.scan`\n",
    "- `jax.lax.while_loop`\n",
    "- `jax.vmap`\n",
    "- `jax.pmap`\n",
    "\n",
    "我们正在积极努力解决这些问题，以便在未来的版本中支持这些功能。\n",
    "\n",
    "但是，如果在非 ``ETraceState``、``ETraceOp``、 ``ETraceParam``等语法的情况下使用上述 JAX 原语，``brainscale`` 仍然可以正常编译工作。\n"
   ],
   "id": "2c39803f000da885"
  }
 ],
 "metadata": {
  "kernelspec": {
   "display_name": "Python 3",
   "language": "python",
   "name": "python3"
  },
  "language_info": {
   "codemirror_mode": {
    "name": "ipython",
    "version": 2
   },
   "file_extension": ".py",
   "mimetype": "text/x-python",
   "name": "python",
   "nbconvert_exporter": "python",
   "pygments_lexer": "ipython2",
   "version": "2.7.6"
  }
 },
 "nbformat": 4,
 "nbformat_minor": 5
}
