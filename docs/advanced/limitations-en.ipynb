{
 "cells": [
  {
   "metadata": {},
   "cell_type": "markdown",
   "source": [
    "# Limitations of ``brainscale``\n",
    "\n",
    "Although ``brainscale`` provides a powerful online learning compilation tool that can recognize most JAX primitives, it still has some limitations. The primary reason for these limitations is that ``brainscale`` struggles to effectively identify the relationships between hidden states $\\mathbf{g}$ and model parameters $\\theta$ when handling control flows and functionality enhancement transformations, which prevents its automatic compilation of eligibility traces.\n",
    "\n",
    "Currently, ``brainscale`` does not support the following JAX primitives:\n",
    "\n",
    "- `jax.lax.cond`\n",
    "- `jax.lax.scan`\n",
    "- `jax.lax.while_loop`\n",
    "- `jax.vmap`\n",
    "- `jax.pmap`\n",
    "\n",
    "We are actively working to address these issues so that these features can be supported in future versions.\n",
    "\n"
   ],
   "id": "2c39803f000da885"
  }
 ],
 "metadata": {
  "kernelspec": {
   "display_name": "Python 3",
   "language": "python",
   "name": "python3"
  },
  "language_info": {
   "codemirror_mode": {
    "name": "ipython",
    "version": 2
   },
   "file_extension": ".py",
   "mimetype": "text/x-python",
   "name": "python",
   "nbconvert_exporter": "python",
   "pygments_lexer": "ipython2",
   "version": "2.7.6"
  }
 },
 "nbformat": 4,
 "nbformat_minor": 5
}
