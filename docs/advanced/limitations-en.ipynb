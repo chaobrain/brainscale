{
 "cells": [
  {
   "metadata": {},
   "cell_type": "markdown",
   "source": [
    "# Limitations\n",
    "\n",
    "While **brainscale** provides powerful compilation tools capable of recognizing most JAX operators, several limitations remain. These limitations primarily stem from brainscale's inability to automatically infer the relationships between model states and parameters when processing conditional control flow and function transformations, preventing successful compilation into eligibility traces.\n",
    "\n",
    "Currently, brainscale's **ETraceState**, **ETraceOp**, and **ETraceParam** constructs do not support the following JAX primitives:\n",
    "\n",
    "- `jax.lax.cond`\n",
    "- `jax.lax.scan`\n",
    "- `jax.lax.while_loop`\n",
    "- `jax.vmap`\n",
    "- `jax.pmap`\n",
    "\n",
    "We are actively working to address these limitations and plan to support these features in future releases.\n",
    "\n",
    "**Important note:** These JAX primitives can still be used and compiled successfully by brainscale when they appear outside of eligibility trace constructs (i.e., when not wrapped within **ETraceState**, **ETraceOp**, or **ETraceParam** contexts).\n"
   ],
   "id": "2c39803f000da885"
  }
 ],
 "metadata": {
  "kernelspec": {
   "display_name": "Python 3",
   "language": "python",
   "name": "python3"
  },
  "language_info": {
   "codemirror_mode": {
    "name": "ipython",
    "version": 2
   },
   "file_extension": ".py",
   "mimetype": "text/x-python",
   "name": "python",
   "nbconvert_exporter": "python",
   "pygments_lexer": "ipython2",
   "version": "2.7.6"
  }
 },
 "nbformat": 4,
 "nbformat_minor": 5
}
