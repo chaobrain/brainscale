{
 "cells": [
  {
   "metadata": {},
   "cell_type": "markdown",
   "source": "# Compilation Graph Visualization",
   "id": "7d79dbcc34ae1b2d"
  },
  {
   "metadata": {},
   "cell_type": "markdown",
   "source": "`brainscale` uses intermediate representation (IR) analysis to extract the dependencies between neuron states, synaptic connections, and model parameters. By calling the `.show_graph()` method, users can visualize the compiled computation graph, providing deeper insights into the computational structure and interdependencies within the neural model.",
   "id": "f653b562490f5dad"
  },
  {
   "metadata": {
    "ExecuteTime": {
     "end_time": "2025-07-21T09:33:41.127622Z",
     "start_time": "2025-07-21T09:33:39.823725Z"
    }
   },
   "cell_type": "code",
   "source": [
    "import brainstate\n",
    "import brainunit as u\n",
    "import brainscale\n",
    "import jax"
   ],
   "id": "d1b039ee6f7c9256",
   "outputs": [],
   "execution_count": 1
  },
  {
   "metadata": {},
   "cell_type": "markdown",
   "source": [
    "\n",
    "## Single-Layer Network\n",
    "\n",
    "This example defines a simple single-layer LIF (Leaky Integrate-and-Fire) network with recurrent connections and an output layer. The network consists of LIF neurons, a Delta projection layer, and a LeakyRateReadout component.\n"
   ],
   "id": "a7599fd25e6f3ebf"
  },
  {
   "metadata": {
    "ExecuteTime": {
     "end_time": "2025-07-21T09:33:41.184947Z",
     "start_time": "2025-07-21T09:33:41.180368Z"
    }
   },
   "cell_type": "code",
   "source": [
    "class LIF_Delta_Net(brainstate.nn.Module):\n",
    "    def __init__(\n",
    "        self,\n",
    "        n_in, n_rec, n_out,\n",
    "        tau_mem=5. * u.ms,\n",
    "        tau_o=5. * u.ms,\n",
    "        V_th=1. * u.mV,\n",
    "        spk_fun=brainstate.surrogate.ReluGrad(),\n",
    "        spk_reset: str = 'soft',\n",
    "        rec_scale: float = 1.,\n",
    "        ff_scale: float = 1.,\n",
    "    ):\n",
    "        super().__init__()\n",
    "        self.neu = brainscale.nn.LIF(n_rec, tau=tau_mem, spk_fun=spk_fun, spk_reset=spk_reset, V_th=V_th)\n",
    "        rec_init = brainstate.init.KaimingNormal(rec_scale, unit=u.mV)\n",
    "        ff_init = brainstate.init.KaimingNormal(ff_scale, unit=u.mV)\n",
    "        w_init = u.math.concatenate([ff_init([n_in, n_rec]), rec_init([n_rec, n_rec])], axis=0)\n",
    "        self.syn = brainstate.nn.DeltaProj(\n",
    "            comm=brainscale.nn.Linear(\n",
    "                n_in + n_rec, n_rec,\n",
    "                w_init=w_init,\n",
    "                b_init=brainstate.init.ZeroInit(unit=u.mV)\n",
    "            ),\n",
    "            post=self.neu\n",
    "        )\n",
    "        self.out = brainscale.nn.LeakyRateReadout(\n",
    "            in_size=n_rec,\n",
    "            out_size=n_out,\n",
    "            tau=tau_o,\n",
    "            w_init=brainstate.init.KaimingNormal()\n",
    "        )\n",
    "\n",
    "    def update(self, spk):\n",
    "        self.syn(u.math.concatenate([spk, self.neu.get_spike()], axis=-1))\n",
    "        return self.out(self.neu())"
   ],
   "id": "755a2e219af3c928",
   "outputs": [],
   "execution_count": 2
  },
  {
   "metadata": {
    "ExecuteTime": {
     "end_time": "2025-07-21T09:33:42.127788Z",
     "start_time": "2025-07-21T09:33:41.226067Z"
    }
   },
   "cell_type": "code",
   "source": [
    "with brainstate.environ.context(dt=0.1 * u.ms):\n",
    "    net = LIF_Delta_Net(n_in=10, n_rec=20, n_out=5)\n",
    "    brainstate.nn.init_all_states(net)\n",
    "    model = brainscale.D_RTRL(net)\n",
    "    model.compile_graph(brainstate.random.rand(10))\n",
    "    model.show_graph()"
   ],
   "id": "fcc199cc2ccc3b05",
   "outputs": [
    {
     "name": "stdout",
     "output_type": "stream",
     "text": [
      "========================================================================================================================\n",
      "The hidden groups are:\n",
      "\n",
      "   Group 0: [('out', 'r')]\n",
      "   Group 1: [('neu', 'V')]\n",
      "\n",
      "\n",
      "The weight parameters which are associated with the hidden states are:\n",
      "\n",
      "   Weight 0: ('syn', 'comm', 'weight_op')  is associated with hidden group 1\n",
      "   Weight 1: ('out', 'weight_op')  is associated with hidden group 0\n",
      "\n",
      "\n",
      "\n"
     ]
    }
   ],
   "execution_count": 3
  },
  {
   "metadata": {},
   "cell_type": "markdown",
   "source": [
    "## Multi-Layer Network\n",
    "\n",
    "This example demonstrates a basic multi-layer GIF (Generalized Integrate-and-Fire) network with stacked projections and synaptic connections.\n"
   ],
   "id": "61ed79a495bc48d3"
  },
  {
   "metadata": {
    "ExecuteTime": {
     "end_time": "2025-07-21T09:33:42.175429Z",
     "start_time": "2025-07-21T09:33:42.164916Z"
    }
   },
   "cell_type": "code",
   "source": [
    "class GIF(brainstate.nn.Neuron):\n",
    "    def __init__(\n",
    "        self, size,\n",
    "        V_rest=0. * u.mV,\n",
    "        V_th_inf=1. * u.mV,\n",
    "        R=1. * u.ohm,\n",
    "        tau=20. * u.ms,\n",
    "        tau_I2=50. * u.ms,\n",
    "        A2=0. * u.mA,\n",
    "        V_initializer = brainstate.init.ZeroInit(unit=u.mV),\n",
    "        I2_initializer = brainstate.init.ZeroInit(unit=u.mA),\n",
    "        spike_fun = brainstate.surrogate.ReluGrad(),\n",
    "        spk_reset: str = 'soft',\n",
    "        name: str = None,\n",
    "    ):\n",
    "        super().__init__(size, name=name, spk_fun=spike_fun, spk_reset=spk_reset)\n",
    "\n",
    "        # parameters\n",
    "        self.V_rest = brainstate.init.param(V_rest, self.varshape, allow_none=False)\n",
    "        self.V_th_inf = brainstate.init.param(V_th_inf, self.varshape, allow_none=False)\n",
    "        self.R = brainstate.init.param(R, self.varshape, allow_none=False)\n",
    "        self.tau = brainstate.init.param(tau, self.varshape, allow_none=False)\n",
    "        self.tau_I2 = brainstate.init.param(tau_I2, self.varshape, allow_none=False)\n",
    "        self.A2 = brainstate.init.param(A2, self.varshape, allow_none=False)\n",
    "\n",
    "        # initializers\n",
    "        self._V_initializer = V_initializer\n",
    "        self._I2_initializer = I2_initializer\n",
    "\n",
    "    def init_state(self):\n",
    "        # 将模型用于在线学习，需要初始化状态变量\n",
    "        self.V = brainscale.ETraceState(brainstate.init.param(self._V_initializer, self.varshape))\n",
    "        self.I2 = brainscale.ETraceState(brainstate.init.param(self._I2_initializer, self.varshape))\n",
    "\n",
    "    def update(self, x=0.):\n",
    "        # 如果前一时刻发放了脉冲，则将膜电位和适应性电流进行重置\n",
    "        last_spk = self.get_spike()\n",
    "        last_spk = jax.lax.stop_gradient(last_spk)\n",
    "        last_V = self.V.value - self.V_th_inf * last_spk\n",
    "        last_I2 = self.I2.value - self.A2 * last_spk\n",
    "        # 更新状态\n",
    "        I2 = brainstate.nn.exp_euler_step(lambda i2: - i2 / self.tau_I2, last_I2)\n",
    "        V = brainstate.nn.exp_euler_step(lambda v, Iext: (- v + self.V_rest + self.R * Iext) / self.tau,\n",
    "                                         last_V, x + I2)\n",
    "        self.I2.value = I2\n",
    "        self.V.value = V\n",
    "        # 输出\n",
    "        inp = self.V.value - self.V_th_inf\n",
    "        inp = jax.nn.standardize(u.get_magnitude(inp))\n",
    "        return inp\n",
    "\n",
    "    def get_spike(self, V=None):\n",
    "        V = self.V.value if V is None else V\n",
    "        spk = self.spk_fun((V - self.V_th_inf) / self.V_th_inf)\n",
    "        return spk\n",
    "\n",
    "\n",
    "class GifLayer(brainstate.nn.Module):\n",
    "    def __init__(\n",
    "        self,\n",
    "        n_in: int,\n",
    "        n_rec: int,\n",
    "        ff_scale: float = 1.,\n",
    "        rec_scale: float = 1.,\n",
    "        tau_neu: float = 5. * u.ms,\n",
    "        tau_syn: float = 5. * u.ms,\n",
    "        tau_I2: float = 5. * u.ms,\n",
    "        A2=1. * u.mA,\n",
    "    ):\n",
    "        super().__init__()\n",
    "\n",
    "        # 初始化权重\n",
    "        ff_init = brainstate.init.KaimingNormal(ff_scale, unit=u.mA)\n",
    "        rec_init = brainstate.init.KaimingNormal(rec_scale, unit=u.mA)\n",
    "        w = u.math.concatenate([ff_init((n_in, n_rec)), rec_init((n_rec, n_rec))], axis=0)\n",
    "\n",
    "        # 参数\n",
    "        self.n_in = n_in\n",
    "        self.n_rec = n_rec\n",
    "\n",
    "        # 模型层\n",
    "        self.ir2r = brainscale.nn.Linear(n_in + n_rec, n_rec, w_init=w, b_init=brainstate.init.ZeroInit(unit=u.mA))\n",
    "        self.exp = brainscale.nn.Expon(n_rec, tau=tau_syn, g_initializer=brainstate.init.ZeroInit(unit=u.mA))\n",
    "        self.r = GIF(\n",
    "            n_rec,\n",
    "            V_rest=0. * u.mV,\n",
    "            V_th_inf=1. * u.mV,\n",
    "            A2=A2,\n",
    "            tau=tau_neu,\n",
    "            tau_I2=brainstate.random.uniform(100. * u.ms, tau_I2 * 1.5, n_rec),\n",
    "        )\n",
    "\n",
    "    def update(self, spikes):\n",
    "        cond = self.ir2r(u.math.concatenate([spikes, self.r.get_spike()], axis=-1))\n",
    "        return self.r(self.exp(cond))\n",
    "\n",
    "\n",
    "class GifNet(brainstate.nn.Module):\n",
    "    def __init__(\n",
    "        self,\n",
    "        n_in: int,\n",
    "        n_rec: list,\n",
    "        n_out: int,\n",
    "        tau_o: float = 5. * u.ms,\n",
    "    ):\n",
    "        super().__init__()\n",
    "\n",
    "        self.layers = []\n",
    "        for n in n_rec:\n",
    "            assert n > 0, \"n_rec should be a list of positive integers.\"\n",
    "            self.layers.append(GifLayer(n_in, n))\n",
    "            n_in = n\n",
    "        self.out = brainscale.nn.LeakyRateReadout(n_in, n_out, tau=tau_o, w_init=brainstate.init.KaimingNormal())\n",
    "\n",
    "    def update(self, x):\n",
    "        for layer in self.layers:\n",
    "            x = layer(x)\n",
    "        return self.out(x)"
   ],
   "id": "d47851b68c71013a",
   "outputs": [],
   "execution_count": 4
  },
  {
   "metadata": {
    "ExecuteTime": {
     "end_time": "2025-07-21T09:33:42.462101Z",
     "start_time": "2025-07-21T09:33:42.207456Z"
    }
   },
   "cell_type": "code",
   "source": [
    "with brainstate.environ.context(dt=0.1 * u.ms):\n",
    "    net2 = GifNet(n_in=10, n_rec=[20, 20, 20], n_out=5)\n",
    "    brainstate.nn.init_all_states(net2)\n",
    "    model = brainscale.D_RTRL(net2)\n",
    "    model.compile_graph(brainstate.random.rand(10))\n",
    "    model.show_graph()"
   ],
   "id": "65f3fd957e644bc0",
   "outputs": [
    {
     "name": "stdout",
     "output_type": "stream",
     "text": [
      "========================================================================================================================\n",
      "The hidden groups are:\n",
      "\n",
      "   Group 0: [('layers', 2, 'r', 'I2'), ('layers', 2, 'r', 'V'), ('layers', 2, 'exp', 'g')]\n",
      "   Group 1: [('layers', 0, 'r', 'I2'), ('layers', 0, 'r', 'V'), ('layers', 0, 'exp', 'g')]\n",
      "   Group 2: [('layers', 1, 'r', 'I2'), ('layers', 1, 'r', 'V'), ('layers', 1, 'exp', 'g')]\n",
      "   Group 3: [('out', 'r')]\n",
      "\n",
      "\n",
      "The weight parameters which are associated with the hidden states are:\n",
      "\n",
      "   Weight 0: ('layers', 0, 'ir2r', 'weight_op')  is associated with hidden group 1\n",
      "   Weight 1: ('layers', 1, 'ir2r', 'weight_op')  is associated with hidden group 2\n",
      "   Weight 2: ('layers', 2, 'ir2r', 'weight_op')  is associated with hidden group 0\n",
      "   Weight 3: ('out', 'weight_op')  is associated with hidden group 3\n",
      "\n",
      "\n",
      "\n"
     ]
    }
   ],
   "execution_count": 5
  },
  {
   "metadata": {},
   "cell_type": "markdown",
   "source": [
    "\n",
    "## Multi-Layer Convolutional Neural Network\n",
    "\n",
    "A demonstration of a multi-layer convolutional architecture built using `brainscale` components. This example showcases how convolutional operations can be integrated with spiking neuron models in a hierarchical structure."
   ],
   "id": "40aa51a47fb30b29"
  },
  {
   "metadata": {
    "ExecuteTime": {
     "end_time": "2025-07-21T09:33:42.552809Z",
     "start_time": "2025-07-21T09:33:42.546772Z"
    }
   },
   "cell_type": "code",
   "source": [
    "class ConvSNN(brainstate.nn.Module):\n",
    "    \"\"\"\n",
    "    Convolutional SNN example.\n",
    "\n",
    "    The model architecture is:\n",
    "\n",
    "    1. Conv2d -> LayerNorm -> IF -> MaxPool2d\n",
    "    2. Conv2d -> LayerNorm -> IF\n",
    "    3. MaxPool2d -> Flatten\n",
    "    4. Linear -> IF\n",
    "    5. LeakyRateReadout\n",
    "    \"\"\"\n",
    "\n",
    "    def __init__(\n",
    "        self,\n",
    "        in_size: brainstate.typing.Size,\n",
    "        out_sze: brainstate.typing.Size,\n",
    "        tau_v: float = 2.0,\n",
    "        tau_o: float = 10.,\n",
    "        v_th: float = 1.0,\n",
    "        n_channel: int = 32,\n",
    "        ff_wscale: float = 40.0,\n",
    "    ):\n",
    "        super().__init__()\n",
    "\n",
    "        conv_inits = dict(w_init=brainstate.init.XavierNormal(scale=ff_wscale), b_init=None)\n",
    "        linear_inits = dict(w_init=brainstate.init.KaimingNormal(scale=ff_wscale), b_init=None)\n",
    "        if_param = dict(\n",
    "            V_th=v_th,\n",
    "            tau=tau_v,\n",
    "            spk_fun=brainstate.surrogate.Arctan(),\n",
    "            V_initializer=brainstate.init.ZeroInit(),\n",
    "            R=1.\n",
    "        )\n",
    "\n",
    "        self.layer1 = brainstate.nn.Sequential(\n",
    "            brainscale.nn.Conv2d(in_size, n_channel, kernel_size=3, padding=1, **conv_inits),\n",
    "            brainscale.nn.LayerNorm.desc(),\n",
    "            brainscale.nn.IF.desc(**if_param),\n",
    "            brainstate.nn.MaxPool2d.desc(kernel_size=2, stride=2)  # 14 * 14\n",
    "        )\n",
    "\n",
    "        self.layer2 = brainstate.nn.Sequential(\n",
    "            brainscale.nn.Conv2d(self.layer1.out_size, n_channel, kernel_size=3, padding=1, **conv_inits),\n",
    "            brainscale.nn.LayerNorm.desc(),\n",
    "            brainscale.nn.IF.desc(**if_param),\n",
    "        )\n",
    "        self.layer3 = brainstate.nn.Sequential(\n",
    "            brainstate.nn.MaxPool2d(kernel_size=2, stride=2, in_size=self.layer2.out_size),  # 7 * 7\n",
    "            brainstate.nn.Flatten.desc()\n",
    "        )\n",
    "        self.layer4 = brainstate.nn.Sequential(\n",
    "            brainscale.nn.Linear(self.layer3.out_size, n_channel * 4 * 4, **linear_inits),\n",
    "            brainscale.nn.IF.desc(**if_param),\n",
    "        )\n",
    "        self.layer5 = brainscale.nn.LeakyRateReadout(self.layer4.out_size, out_sze, tau=tau_o)\n",
    "\n",
    "    def update(self, x):\n",
    "        # x.shape = [B, H, W, C]\n",
    "        return x >> self.layer1 >> self.layer2 >> self.layer3 >> self.layer4 >> self.layer5"
   ],
   "id": "f20924bd3ff2c618",
   "outputs": [],
   "execution_count": 6
  },
  {
   "metadata": {
    "ExecuteTime": {
     "end_time": "2025-07-21T09:33:43.736158Z",
     "start_time": "2025-07-21T09:33:42.638557Z"
    }
   },
   "cell_type": "code",
   "source": [
    "with brainstate.environ.context(dt=0.1):\n",
    "    net2 = ConvSNN((34, 34, 2), 10)\n",
    "    brainstate.nn.init_all_states(net2)\n",
    "    model = brainscale.D_RTRL(net2)\n",
    "    model.compile_graph(brainstate.random.random((34, 34, 2)))\n",
    "    model.show_graph()"
   ],
   "id": "aba8fee72a3eeade",
   "outputs": [
    {
     "name": "stdout",
     "output_type": "stream",
     "text": [
      "========================================================================================================================\n",
      "The hidden groups are:\n",
      "\n",
      "   Group 0: [('layer2', 'layers', 2, 'V')]\n",
      "   Group 1: [('layer5', 'r')]\n",
      "   Group 2: [('layer1', 'layers', 2, 'V')]\n",
      "   Group 3: [('layer4', 'layers', 1, 'V')]\n",
      "\n",
      "\n",
      "The weight parameters which are associated with the hidden states are:\n",
      "\n",
      "   Weight 0: ('layer1', 'layers', 0, 'weight_op')  is associated with hidden group 2\n",
      "   Weight 1: ('layer1', 'layers', 1, 'weight')  is associated with hidden group 2\n",
      "   Weight 2: ('layer2', 'layers', 0, 'weight_op')  is associated with hidden group 0\n",
      "   Weight 3: ('layer2', 'layers', 1, 'weight')  is associated with hidden group 0\n",
      "   Weight 4: ('layer4', 'layers', 0, 'weight_op')  is associated with hidden group 3\n",
      "   Weight 5: ('layer5', 'weight_op')  is associated with hidden group 1\n",
      "\n",
      "\n",
      "\n"
     ]
    }
   ],
   "execution_count": 7
  }
 ],
 "metadata": {
  "kernelspec": {
   "display_name": "Python 3",
   "language": "python",
   "name": "python3"
  },
  "language_info": {
   "codemirror_mode": {
    "name": "ipython",
    "version": 2
   },
   "file_extension": ".py",
   "mimetype": "text/x-python",
   "name": "python",
   "nbconvert_exporter": "python",
   "pygments_lexer": "ipython2",
   "version": "2.7.6"
  }
 },
 "nbformat": 4,
 "nbformat_minor": 5
}
