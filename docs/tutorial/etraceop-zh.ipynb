{
 "cells": [
  {
   "metadata": {},
   "cell_type": "markdown",
   "source": "# `ETraceOp`: 资格迹算子",
   "id": "6908d888efacaf39"
  },
  {
   "metadata": {},
   "cell_type": "markdown",
   "source": "资格迹算子（`ETraceOp`）是一个用于定义模型连接和突触交互的算子。它根据模型的输入和参数，计算突触后电流。",
   "id": "22c7e80a152c498"
  },
  {
   "metadata": {
    "ExecuteTime": {
     "end_time": "2025-07-21T13:46:07.394748Z",
     "start_time": "2025-07-21T13:46:07.391418Z"
    }
   },
   "cell_type": "code",
   "source": [
    "import jax\n",
    "import jax.numpy as jnp\n",
    "\n",
    "import brainscale\n",
    "import brainstate"
   ],
   "id": "f6e57eb541a39a1d",
   "outputs": [],
   "execution_count": 4
  },
  {
   "metadata": {},
   "cell_type": "markdown",
   "source": [
    "## 内置的资格迹算子\n",
    "\n",
    "目前，brainscale提供了一系列内置的资格迹算子，包括：\n",
    "\n",
    "- [`brainscale.MatMulOp`](../apis/generated/brainscale.MatMulOp.rst): 矩阵乘法算子。\n",
    "- [`brainscale.ConvOp`](../apis/generated/brainscale.Conv2dOp.rst): 一般性的卷积算子。\n",
    "- [`brainscale.SpMatMulOp`](../apis/generated/brainscale.SpMatMulOp.rst): 稀疏矩阵向量乘法算子。\n",
    "- [`brainscale.LoraOp`](../apis/generated/brainscale.LoraOp.rst): Lora算子。\n",
    "\n",
    "这些资格迹算子往往需要配合模型参数``brainscale.ETraceParam``一起使用。"
   ],
   "id": "de5e69fd2fd011fc"
  },
  {
   "metadata": {},
   "cell_type": "markdown",
   "source": [
    "### ``brainscale.MatMulOp`` 矩阵乘法算子\n",
    "\n",
    "[`brainscale.MatMulOp`](../apis/generated/brainscale.MatMulOp.rst) 算子支持矩阵乘法操作，适用于全连接层等场景。它的输入是矩阵$x$和参数$w$，输出是它们的乘积$y$。\n",
    "\n",
    "- 输入$x$是一个矩阵。\n",
    "- 参数$w$是一个字典，涵盖了权重矩阵字段``weight``和偏置向量字段``bias``。这个算子可以用于实现全连接层的前向传播。\n",
    "- 输出$y$是一个矩阵。\n",
    "\n",
    "`brainscale.MatMulOp`支持如下操作：\n",
    "\n",
    "1. $y = x @ \\mathrm{param['weight']} + \\mathrm{param['bias']}$"
   ],
   "id": "db3170d640ee5f03"
  },
  {
   "metadata": {
    "ExecuteTime": {
     "end_time": "2025-07-21T13:44:44.719414Z",
     "start_time": "2025-07-21T13:44:40.111608Z"
    }
   },
   "cell_type": "code",
   "source": [
    "brainscale.ETraceParam(\n",
    "    {\n",
    "        'weight': brainstate.random.rand(4, 5),\n",
    "        'bias': brainstate.random.rand(5)\n",
    "     },\n",
    "    brainscale.MatMulOp()\n",
    ")"
   ],
   "id": "7cfcfd6102942c5c",
   "outputs": [
    {
     "data": {
      "text/plain": [
       "ETraceParam(\n",
       "  value={\n",
       "    'bias': ShapedArray(float32[5]),\n",
       "    'weight': ShapedArray(float32[4,5])\n",
       "  },\n",
       "  gradient=<ETraceGrad.adaptive: 'adaptive'>,\n",
       "  op=MatMulOp(is_diagonal=False),\n",
       "  is_etrace=True\n",
       ")"
      ]
     },
     "execution_count": 2,
     "metadata": {},
     "output_type": "execute_result"
    }
   ],
   "execution_count": 2
  },
  {
   "metadata": {},
   "cell_type": "markdown",
   "source": "2. `mask`操作：$y = x @ (\\mathrm{param['weight']} * \\mathrm{mask}) + \\mathrm{param['bias']}$\n",
   "id": "dae51d24729c9e99"
  },
  {
   "metadata": {
    "ExecuteTime": {
     "end_time": "2025-07-21T13:44:52.616934Z",
     "start_time": "2025-07-21T13:44:52.574133Z"
    }
   },
   "cell_type": "code",
   "source": [
    "brainscale.ETraceParam(\n",
    "    {\n",
    "        'weight': brainstate.random.rand(4, 5),\n",
    "        'bias': brainstate.random.rand(5)\n",
    "     },\n",
    "    brainscale.MatMulOp(\n",
    "       weight_mask=brainstate.random.rand(4, 5) > 0.5\n",
    "    )\n",
    ")"
   ],
   "id": "c241d3ebef29e296",
   "outputs": [
    {
     "data": {
      "text/plain": [
       "ETraceParam(\n",
       "  value={\n",
       "    'bias': ShapedArray(float32[5]),\n",
       "    'weight': ShapedArray(float32[4,5])\n",
       "  },\n",
       "  gradient=<ETraceGrad.adaptive: 'adaptive'>,\n",
       "  op=MatMulOp(is_diagonal=False),\n",
       "  is_etrace=True\n",
       ")"
      ]
     },
     "execution_count": 3,
     "metadata": {},
     "output_type": "execute_result"
    }
   ],
   "execution_count": 3
  },
  {
   "metadata": {},
   "cell_type": "markdown",
   "source": "3. 权重函数：$y = x @ f(\\mathrm{param['weight']}) + \\mathrm{param['bias']}$",
   "id": "9c88b41947814f5b"
  },
  {
   "metadata": {
    "ExecuteTime": {
     "end_time": "2025-07-21T13:46:10.374551Z",
     "start_time": "2025-07-21T13:46:10.366682Z"
    }
   },
   "cell_type": "code",
   "source": [
    "brainscale.ETraceParam(\n",
    "    {\n",
    "        'weight': brainstate.random.rand(4, 5),\n",
    "        'bias': brainstate.random.rand(5)\n",
    "     },\n",
    "    brainscale.MatMulOp(\n",
    "       weight_fn=jnp.abs\n",
    "    )\n",
    ")"
   ],
   "id": "d6c4a54f029164c6",
   "outputs": [
    {
     "data": {
      "text/plain": [
       "ETraceParam(\n",
       "  value={\n",
       "    'bias': ShapedArray(float32[5]),\n",
       "    'weight': ShapedArray(float32[4,5])\n",
       "  },\n",
       "  gradient=<ETraceGrad.adaptive: 'adaptive'>,\n",
       "  op=MatMulOp(is_diagonal=False),\n",
       "  is_etrace=True\n",
       ")"
      ]
     },
     "execution_count": 5,
     "metadata": {},
     "output_type": "execute_result"
    }
   ],
   "execution_count": 5
  },
  {
   "metadata": {},
   "cell_type": "markdown",
   "source": "4. 权重函数+mask操作：$y = x @ f(\\mathrm{param['weight']} * \\mathrm{mask}) + \\mathrm{param['bias']}$",
   "id": "ca69e31df3334a3d"
  },
  {
   "metadata": {
    "ExecuteTime": {
     "end_time": "2025-07-21T13:46:59.602309Z",
     "start_time": "2025-07-21T13:46:59.582186Z"
    }
   },
   "cell_type": "code",
   "source": [
    "brainscale.ETraceParam(\n",
    "    {\n",
    "        'weight': brainstate.random.rand(4, 5),\n",
    "        'bias': brainstate.random.rand(5)\n",
    "     },\n",
    "    brainscale.MatMulOp(\n",
    "       weight_fn=jnp.abs,\n",
    "       weight_mask=brainstate.random.rand(4, 5) > 0.5\n",
    "    )\n",
    ")"
   ],
   "id": "9e951a4a5f6a5d1d",
   "outputs": [
    {
     "data": {
      "text/plain": [
       "ETraceParam(\n",
       "  value={\n",
       "    'bias': ShapedArray(float32[5]),\n",
       "    'weight': ShapedArray(float32[4,5])\n",
       "  },\n",
       "  gradient=<ETraceGrad.adaptive: 'adaptive'>,\n",
       "  op=MatMulOp(is_diagonal=False),\n",
       "  is_etrace=True\n",
       ")"
      ]
     },
     "execution_count": 6,
     "metadata": {},
     "output_type": "execute_result"
    }
   ],
   "execution_count": 6
  },
  {
   "metadata": {},
   "cell_type": "markdown",
   "source": [
    "### ``brainscale.ConvOp`` 卷积算子\n",
    "\n",
    "[`brainscale.ConvOp`](../apis/generated/brainscale.Conv2dOp.rst) 算子支持一般性的卷积操作，适用于卷积神经网络（CNN）等场景。它的输入是特征图$x$和参数$w$，输出是卷积结果$y$。\n",
    "\n",
    "- 输入$x$是一个矩阵。\n",
    "- 参数$w$是一个字典，涵盖了权重矩阵字段``weight``和偏置向量字段``bias``。这个算子可以用于实现全连接层的前向传播。\n",
    "- 输出$y$是一个矩阵。\n",
    "\n",
    "`brainscale.ConvOp`支持1D、2D、3D卷积等多种形式的卷积操作。其维度信息由`xinfo`参数指定。`xinfo`是一个``jax.ShapeDtypeStruct``对象，包含了输入特征图的形状和数据类型。比如，\n",
    "\n",
    "- 当 `xinfo=jax.ShapeDtypeStruct((32, 3), jnp.float32)` 时，表示输入是一个形状为 `(32, 3)` 的2维张量（通道数为3，长度均为32），此时卷积是1D卷积。\n",
    "- 当 `xinfo=jax.ShapeDtypeStruct((32, 32, 3), jnp.float32)` 时，表示输入是一个形状为 `(32, 32, 3)` 的3维张量（通道数为3，高度和宽度均为32），此时卷积是2D卷积。\n",
    "- 当 `xinfo=jax.ShapeDtypeStruct((32, 32, 32, 3), jnp.float32)` 时，表示输入是一个形状为 `(32, 32, 32, 3)` 的4维张量（通道数为3，高度和宽度均为32，深度为32），此时卷积是3D卷积。\n",
    "\n"
   ],
   "id": "910f02a78e94927a"
  },
  {
   "metadata": {},
   "cell_type": "markdown",
   "source": [
    "\n",
    "对于每种维度的输入数据的卷积操作，`brainscale.ConvOp`支持如下格式：\n",
    "\n",
    "1. $y = x \\mathrm{[convolution]} \\mathrm{param['weight']} + \\mathrm{param['bias']}$"
   ],
   "id": "5118dd1a1d9e85df"
  },
  {
   "metadata": {},
   "cell_type": "code",
   "outputs": [],
   "execution_count": null,
   "source": [
    "# 以2D卷积为例\n",
    "brainscale.ETraceParam(\n",
    "    {\n",
    "        'weight': brainstate.random.rand(3, 3),\n",
    "        'bias': jnp.zeros(16)\n",
    "    },\n",
    "    brainscale.ConvOp(\n",
    "        xinfo=jax.ShapeDtypeStruct((32, 3, 3), jnp.float32),\n",
    "        window_strides=[1, 1],\n",
    "        padding='SAME',\n",
    "    )\n",
    ")"
   ],
   "id": "b0e2e11be2ed70e0"
  },
  {
   "metadata": {},
   "cell_type": "markdown",
   "source": "2. `mask`操作：$y = x \\mathrm{[convolution]}  (\\mathrm{param['weight']} * \\mathrm{mask}) + \\mathrm{param['bias']}$\n",
   "id": "5360541335128b26"
  },
  {
   "metadata": {},
   "cell_type": "code",
   "outputs": [],
   "execution_count": null,
   "source": [
    "# 以2D卷积为例\n",
    "brainscale.ETraceParam(\n",
    "    {\n",
    "        'weight': brainstate.random.rand(3, 3),\n",
    "        'bias': jnp.zeros(16)\n",
    "    },\n",
    "    brainscale.ConvOp(\n",
    "        xinfo=jax.ShapeDtypeStruct((32, 3, 3), jnp.float32),\n",
    "        window_strides=[1, 1],\n",
    "        padding='SAME',\n",
    "        weight_mask=brainstate.random.rand(3, 3) > 0.5\n",
    "    )\n",
    ")"
   ],
   "id": "f89d525bafd429d5"
  },
  {
   "metadata": {},
   "cell_type": "markdown",
   "source": "3. 权重函数：$y = x \\mathrm{[convolution]}  f(\\mathrm{param['weight']}) + \\mathrm{param['bias']}$",
   "id": "a5ebcff7e320c154"
  },
  {
   "metadata": {},
   "cell_type": "code",
   "outputs": [],
   "execution_count": null,
   "source": [
    "# 以2D卷积为例\n",
    "brainscale.ETraceParam(\n",
    "    {\n",
    "        'weight': brainstate.random.rand(3, 3),\n",
    "        'bias': jnp.zeros(16)\n",
    "    },\n",
    "    brainscale.ConvOp(\n",
    "        xinfo=jax.ShapeDtypeStruct((32, 3, 3), jnp.float32),\n",
    "        window_strides=[1, 1],\n",
    "        padding='SAME',\n",
    "        weight_fn=jnp.abs\n",
    "    )\n",
    ")"
   ],
   "id": "f5397ebb2d95562e"
  },
  {
   "metadata": {},
   "cell_type": "markdown",
   "source": "4. 权重函数+mask操作：$y = x \\mathrm{[convolution]}  f(\\mathrm{param['weight']} * \\mathrm{mask}) + \\mathrm{param['bias']}$",
   "id": "6452a85597add8c2"
  },
  {
   "metadata": {},
   "cell_type": "code",
   "outputs": [],
   "execution_count": null,
   "source": [
    "# 以2D卷积为例\n",
    "brainscale.ETraceParam(\n",
    "    {\n",
    "        'weight': brainstate.random.rand(3, 3),\n",
    "        'bias': jnp.zeros(16)\n",
    "    },\n",
    "    brainscale.ConvOp(\n",
    "        xinfo=jax.ShapeDtypeStruct((32, 3, 3), jnp.float32),\n",
    "        window_strides=[1, 1],\n",
    "        padding='SAME',\n",
    "        weight_mask=brainstate.random.rand(3, 3) > 0.5,\n",
    "        weight_fn=jnp.abs,\n",
    "    )\n",
    ")"
   ],
   "id": "d359833825f7e15b"
  },
  {
   "metadata": {},
   "cell_type": "markdown",
   "source": [
    "### `brainscale.SpMatMulOp` 稀疏矩阵向量乘法算子\n",
    "\n",
    "[`brainscale.SpMatMulOp`](../apis/generated/brainscale.SpMatMulOp.rst) 算子支持稀疏矩阵向量乘法操作，适用于图神经网络（GNN）等场景。它的输入是特征图$x$和参数$w$，输出是稀疏矩阵乘法结果$y$\n",
    "\n",
    "\n",
    "`brainscale.SpMatMulOp` 与 `brainscale.MatMulOp` 做类似的操作，用于\n"
   ],
   "id": "20fd18e264c39e7b"
  },
  {
   "metadata": {},
   "cell_type": "markdown",
   "source": "## 自定义资格迹算子",
   "id": "604254782d402b26"
  },
  {
   "metadata": {},
   "cell_type": "markdown",
   "source": [
    "自定义资格迹算子需要继承`brainscale.ETraceOp`类，并实现以下方法：\n",
    "\n",
    "- `xw_to_y()`: 计算突触后电流 $y = f(x, w)$。\n",
    "\n",
    "![](../_static/etraceop-xw2y.png)\n",
    "\n",
    "\n",
    "- `yw_to_w()`: 计算突触后维度向量如何影响权重 $w = g(y, w)$，特别会应用于**学习信号**作用在**资格迹**上 $\\frac{\\partial \\mathcal{L}^{t}}{\\partial \\mathbf{h}^{t}} \\boldsymbol{\\epsilon}^{t}$。\n",
    "\n",
    "![](../_static/etraceop-yw2w.png)"
   ],
   "id": "fb0421251a788ffa"
  },
  {
   "metadata": {},
   "cell_type": "code",
   "outputs": [],
   "execution_count": null,
   "source": "",
   "id": "cadbd5b6530562dc"
  }
 ],
 "metadata": {
  "kernelspec": {
   "display_name": "Python 3",
   "language": "python",
   "name": "python3"
  },
  "language_info": {
   "codemirror_mode": {
    "name": "ipython",
    "version": 2
   },
   "file_extension": ".py",
   "mimetype": "text/x-python",
   "name": "python",
   "nbconvert_exporter": "python",
   "pygments_lexer": "ipython2",
   "version": "2.7.6"
  }
 },
 "nbformat": 4,
 "nbformat_minor": 5
}
