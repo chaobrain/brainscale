{
 "cells": [
  {
   "metadata": {},
   "cell_type": "markdown",
   "source": "# `ETraceOp`: 在线学习算子",
   "id": "6908d888efacaf39"
  },
  {
   "metadata": {},
   "cell_type": "markdown",
   "source": [
    "在`brainscale`框架中，资格迹算子 (`ETraceOp`) 扮演着连接神经网络中神经元群体、定义突触交互的核心角色。它的主要职责是根据模型的输入（突触前活动）和参数（如突触权重），精确计算出突触后电流。更重要的是，`ETraceOp` 原生支持基于资格迹（Eligibility Trace）的学习机制，这是一种模拟生物神经系统中时间信用分配（temporal credit assignment）的关键过程，使得模型能够根据延迟的奖励或误差信号来更新连接权重。\n",
    "\n",
    "`ETraceOp` 的设计哲学是将计算逻辑（算子本身）与可训练参数（`ETraceParam`）解耦，从而提供了极大的灵活性和可扩展性。"
   ],
   "id": "22c7e80a152c498"
  },
  {
   "metadata": {
    "ExecuteTime": {
     "end_time": "2025-07-21T15:24:17.930804Z",
     "start_time": "2025-07-21T15:24:17.926694Z"
    }
   },
   "cell_type": "code",
   "source": [
    "import brainevent\n",
    "import brainstate\n",
    "import jax\n",
    "import jax.numpy as jnp\n",
    "\n",
    "import brainscale"
   ],
   "id": "9ac44f0bb1d51cd9",
   "outputs": [],
   "execution_count": 35
  },
  {
   "metadata": {},
   "cell_type": "markdown",
   "source": [
    "## 内置的资格迹算子\n",
    "\n",
    "`brainscale` 提供了一系列功能强大且预先配置好的资格迹算子，能够满足绝大多数常见的神经网络建模需求。这些算子与模型参数容器 `brainscale.ETraceParam` 配合使用，构成了神经网络的构建模块。\n",
    "\n",
    "主要内置算子包括：\n",
    "\n",
    "\n",
    "- [`brainscale.MatMulOp`](../apis/generated/brainscale.MatMulOp.rst): 实现标准的矩阵乘法，是构建全连接层（Dense Layer）的基础。\n",
    "- [`brainscale.ConvOp`](../apis/generated/brainscale.ConvOp.rst): 实现卷积操作，支持1D、2D和3D卷积，是构建卷积神经网络（CNN）的核心。\n",
    "- [`brainscale.SpMatMulOp`](../apis/generated/brainscale.SpMatMulOp.rst): 专为稀疏连接设计，实现了稀疏矩阵乘法，在图神经网络（GNN）和需要高效表示大规模稀疏连接的生物可塑性模型中尤为重要。\n",
    "- [`brainscale.ElemWiseOp`](../apis/generated/brainscale.ElemWiseOp.rst): 执行元素级别的数学运算，常用于实现激活函数、缩放或其他自定义的逐元素变换。\n",
    "- [`brainscale.LoraOp`](../apis/generated/brainscale.LoraOp.rst): 实现低秩适应（Low-Rank Adaptation）技术，这是一种高效微调大型预训练模型的方法。\n",
    "\n",
    "这些资格迹算子通常需要配合模型参数`brainscale.ETraceParam`一起使用。"
   ],
   "id": "de5e69fd2fd011fc"
  },
  {
   "metadata": {},
   "cell_type": "markdown",
   "source": [
    "### `brainscale.MatMulOp` 矩阵乘法算子\n",
    "\n",
    "[`brainscale.MatMulOp`](../apis/generated/brainscale.MatMulOp.rst) 是最基础的算子，支持矩阵乘法操作，适用于全连接层等场景。\n",
    "\n",
    "**基本操作**：\n",
    "- 输入：矩阵 $x \\in \\mathbb{R}^{B \\times D_{in}}$\n",
    "- 参数：字典 $w$，包含权重矩阵 `weight` $\\in \\mathbb{R}^{D_{in} \\times D_{out}}$ 和偏置向量 `bias` $\\in \\mathbb{R}^{D_{out}}$\n",
    "- 输出：矩阵 $y \\in \\mathbb{R}^{B \\times D_{out}}$\n",
    "\n",
    "**支持的操作类型**：\n",
    "\n",
    "1. **标准矩阵乘法**：\n",
    "\n",
    "$$y = x \\cdot \\text{param['weight']} + \\text{param['bias']}$$\n"
   ],
   "id": "3eb9abd2ff059c76"
  },
  {
   "metadata": {
    "ExecuteTime": {
     "end_time": "2025-07-21T15:24:17.956101Z",
     "start_time": "2025-07-21T15:24:17.950100Z"
    }
   },
   "cell_type": "code",
   "source": [
    "# 标准矩阵乘法\n",
    "\n",
    "brainscale.ETraceParam(\n",
    "    {\n",
    "        'weight': brainstate.random.rand(4, 5),\n",
    "        'bias': brainstate.random.rand(5)\n",
    "    },\n",
    "    brainscale.MatMulOp()\n",
    ")"
   ],
   "id": "7cfcfd6102942c5c",
   "outputs": [
    {
     "data": {
      "text/plain": [
       "ETraceParam(\n",
       "  value={\n",
       "    'bias': ShapedArray(float32[5]),\n",
       "    'weight': ShapedArray(float32[4,5])\n",
       "  },\n",
       "  gradient=<ETraceGrad.adaptive: 'adaptive'>,\n",
       "  op=MatMulOp(\n",
       "    is_diagonal=False,\n",
       "    weight_mask=None,\n",
       "    weight_fn=<function MatMulOp.<lambda> at 0x000002380AAB7B00>,\n",
       "    apply_weight_fn_before_mask=False\n",
       "  ),\n",
       "  is_etrace=True\n",
       ")"
      ]
     },
     "execution_count": 36,
     "metadata": {},
     "output_type": "execute_result"
    }
   ],
   "execution_count": 36
  },
  {
   "metadata": {},
   "cell_type": "markdown",
   "source": [
    "2. **掩码操作**： 通过 `weight_mask` 参数可以实现稀疏连接，只有掩码中为`True`的权重才会生效。\n",
    "\n",
    "$$y = x \\cdot (\\text{param['weight']} \\odot \\text{mask}) + \\text{param['bias']}$$"
   ],
   "id": "dae51d24729c9e99"
  },
  {
   "metadata": {
    "ExecuteTime": {
     "end_time": "2025-07-21T15:24:17.986735Z",
     "start_time": "2025-07-21T15:24:17.980642Z"
    }
   },
   "cell_type": "code",
   "source": [
    "# 带掩码的矩阵乘法（实现稀疏连接）\n",
    "\n",
    "brainscale.ETraceParam(\n",
    "    {\n",
    "        'weight': brainstate.random.rand(4, 5),\n",
    "        'bias': brainstate.random.rand(5)\n",
    "    },\n",
    "    brainscale.MatMulOp(\n",
    "        weight_mask=brainstate.random.rand(4, 5) > 0.5\n",
    "    )\n",
    ")"
   ],
   "id": "c241d3ebef29e296",
   "outputs": [
    {
     "data": {
      "text/plain": [
       "ETraceParam(\n",
       "  value={\n",
       "    'bias': ShapedArray(float32[5]),\n",
       "    'weight': ShapedArray(float32[4,5])\n",
       "  },\n",
       "  gradient=<ETraceGrad.adaptive: 'adaptive'>,\n",
       "  op=MatMulOp(\n",
       "    is_diagonal=False,\n",
       "    weight_mask=Array([[ True, False,  True,  True,  True],\n",
       "           [False, False,  True,  True,  True],\n",
       "           [ True, False, False, False, False],\n",
       "           [False,  True, False, False,  True]], dtype=bool),\n",
       "    weight_fn=<function MatMulOp.<lambda> at 0x000002380AAB7B00>,\n",
       "    apply_weight_fn_before_mask=False\n",
       "  ),\n",
       "  is_etrace=True\n",
       ")"
      ]
     },
     "execution_count": 37,
     "metadata": {},
     "output_type": "execute_result"
    }
   ],
   "execution_count": 37
  },
  {
   "metadata": {},
   "cell_type": "markdown",
   "source": [
    "3. **权重函数变换**：通过 `weight_fn` 参数可以对权重矩阵应用一个函数变换，例如应用`jnp.abs`来强制执行戴尔定律（Dale's Law），确保所有突触权重为正（兴奋性）。\n",
    "\n",
    "$$y = x \\cdot f(\\text{param['weight']}) + \\text{param['bias']}$$\n"
   ],
   "id": "9c88b41947814f5b"
  },
  {
   "metadata": {
    "ExecuteTime": {
     "end_time": "2025-07-21T15:24:18.009617Z",
     "start_time": "2025-07-21T15:24:18.004249Z"
    }
   },
   "cell_type": "code",
   "source": [
    "# 对权重应用函数变换\n",
    "\n",
    "brainscale.ETraceParam(\n",
    "    {\n",
    "        'weight': brainstate.random.rand(4, 5),\n",
    "        'bias': brainstate.random.rand(5)\n",
    "    },\n",
    "    brainscale.MatMulOp(\n",
    "        weight_fn=jnp.abs   # 确保权重为正\n",
    "    )\n",
    ")"
   ],
   "id": "d6c4a54f029164c6",
   "outputs": [
    {
     "data": {
      "text/plain": [
       "ETraceParam(\n",
       "  value={\n",
       "    'bias': ShapedArray(float32[5]),\n",
       "    'weight': ShapedArray(float32[4,5])\n",
       "  },\n",
       "  gradient=<ETraceGrad.adaptive: 'adaptive'>,\n",
       "  op=MatMulOp(\n",
       "    is_diagonal=False,\n",
       "    weight_mask=None,\n",
       "    weight_fn=<PjitFunction of <function abs at 0x000002386178C400>>,\n",
       "    apply_weight_fn_before_mask=False\n",
       "  ),\n",
       "  is_etrace=True\n",
       ")"
      ]
     },
     "execution_count": 38,
     "metadata": {},
     "output_type": "execute_result"
    }
   ],
   "execution_count": 38
  },
  {
   "metadata": {},
   "cell_type": "markdown",
   "source": [
    "4. **组合操作**：\n",
    "\n",
    "$$y = x \\cdot f(\\text{param['weight']} \\odot \\text{mask}) + \\text{param['bias']}$$"
   ],
   "id": "ca69e31df3334a3d"
  },
  {
   "metadata": {
    "ExecuteTime": {
     "end_time": "2025-07-21T15:24:18.033397Z",
     "start_time": "2025-07-21T15:24:18.025397Z"
    }
   },
   "cell_type": "code",
   "source": [
    "# 同时使用掩码和权重函数\n",
    "brainscale.ETraceParam(\n",
    "    {\n",
    "        'weight': brainstate.random.rand(4, 5),\n",
    "        'bias': brainstate.random.rand(5)\n",
    "    },\n",
    "    brainscale.MatMulOp(\n",
    "        weight_fn=jnp.abs,\n",
    "        weight_mask=brainstate.random.rand(4, 5) > 0.5\n",
    "    )\n",
    ")"
   ],
   "id": "9e951a4a5f6a5d1d",
   "outputs": [
    {
     "data": {
      "text/plain": [
       "ETraceParam(\n",
       "  value={\n",
       "    'bias': ShapedArray(float32[5]),\n",
       "    'weight': ShapedArray(float32[4,5])\n",
       "  },\n",
       "  gradient=<ETraceGrad.adaptive: 'adaptive'>,\n",
       "  op=MatMulOp(\n",
       "    is_diagonal=False,\n",
       "    weight_mask=Array([[False, False,  True,  True, False],\n",
       "           [ True,  True,  True, False,  True],\n",
       "           [ True, False, False, False, False],\n",
       "           [ True,  True, False, False, False]], dtype=bool),\n",
       "    weight_fn=<PjitFunction of <function abs at 0x000002386178C400>>,\n",
       "    apply_weight_fn_before_mask=False\n",
       "  ),\n",
       "  is_etrace=True\n",
       ")"
      ]
     },
     "execution_count": 39,
     "metadata": {},
     "output_type": "execute_result"
    }
   ],
   "execution_count": 39
  },
  {
   "metadata": {},
   "cell_type": "markdown",
   "source": [
    "### ``brainscale.ConvOp`` 卷积算子\n",
    "\n",
    "[`brainscale.ConvOp`](../apis/generated/brainscale.ConvOp.rst) 算子支持一般性的卷积操作，适用于卷积神经网络（CNN）等场景。它的输入是特征图$x$和参数$w$，输出是卷积结果$y$。\n",
    "\n",
    "- 输入$x$是一个矩阵。\n",
    "- 参数$w$是一个字典，涵盖了权重矩阵字段``weight``和偏置向量字段``bias``。这个算子可以用于实现全连接层的前向传播。\n",
    "- 输出$y$是一个矩阵。\n",
    "\n",
    "**维度支持**：\n",
    "\n",
    "`brainscale.ConvOp`支持1D、2D、3D卷积等多种形式的卷积操作。通过 `xinfo` 参数（一个`jax.ShapeDtypeStruct`对象），它可以自动推断并执行1D、2D或3D卷积。比如，\n",
    "\n",
    "- **1D卷积**：当 `xinfo=jax.ShapeDtypeStruct((32, 3), jnp.float32)` 时，表示输入是一个形状为 `(32, 3)` 的2维张量（通道数为3，长度均为32），此时卷积是1D卷积。\n",
    "- **2D卷积**：当 `xinfo=jax.ShapeDtypeStruct((32, 32, 3), jnp.float32)` 时，表示输入是一个形状为 `(32, 32, 3)` 的3维张量（通道数为3，高度和宽度均为32），此时卷积是2D卷积。\n",
    "- **3D卷积**：当 `xinfo=jax.ShapeDtypeStruct((32, 32, 32, 3), jnp.float32)` 时，表示输入是一个形状为 `(32, 32, 32, 3)` 的4维张量（通道数为3，高度和宽度均为32，深度为32），此时卷积是3D卷积。\n",
    "\n"
   ],
   "id": "910f02a78e94927a"
  },
  {
   "metadata": {},
   "cell_type": "markdown",
   "source": [
    "**1. 标准卷积操作**：\n",
    "\n",
    "$$y = x \\star \\text{param['weight']} + \\text{param['bias']}$$\n",
    "\n",
    "其中 $\\star$ 表示卷积操作。"
   ],
   "id": "5118dd1a1d9e85df"
  },
  {
   "metadata": {
    "ExecuteTime": {
     "end_time": "2025-07-21T15:24:18.055378Z",
     "start_time": "2025-07-21T15:24:18.049376Z"
    }
   },
   "cell_type": "code",
   "source": [
    "# 以2D卷积为例\n",
    "brainscale.ETraceParam(\n",
    "    {\n",
    "        'weight': brainstate.random.rand(3, 3),\n",
    "        'bias': jnp.zeros(16)\n",
    "    },\n",
    "    brainscale.ConvOp(\n",
    "        xinfo=jax.ShapeDtypeStruct((32, 3, 3), jnp.float32),  # (height, width, channels)\n",
    "        window_strides=[1, 1],\n",
    "        padding='SAME',\n",
    "    )\n",
    ")"
   ],
   "id": "b0e2e11be2ed70e0",
   "outputs": [
    {
     "data": {
      "text/plain": [
       "ETraceParam(\n",
       "  value={\n",
       "    'bias': ShapedArray(float32[16]),\n",
       "    'weight': ShapedArray(float32[3,3])\n",
       "  },\n",
       "  gradient=<ETraceGrad.adaptive: 'adaptive'>,\n",
       "  op=ConvOp(\n",
       "    is_diagonal=False,\n",
       "    window_strides=[\n",
       "      1,\n",
       "      1\n",
       "    ],\n",
       "    padding=SAME,\n",
       "    lhs_dilation=None,\n",
       "    rhs_dilation=None,\n",
       "    feature_group_count=1,\n",
       "    batch_group_count=1,\n",
       "    dimension_numbers=None,\n",
       "    weight_mask=None,\n",
       "    weight_fn=<function ConvOp.<lambda> at 0x000002380AAB7EC0>,\n",
       "    xinfo=ShapeDtypeStruct(shape=(32, 3, 3), dtype=float32)\n",
       "  ),\n",
       "  is_etrace=True\n",
       ")"
      ]
     },
     "execution_count": 40,
     "metadata": {},
     "output_type": "execute_result"
    }
   ],
   "execution_count": 40
  },
  {
   "metadata": {},
   "cell_type": "markdown",
   "source": [
    "**2. `mask`操作**：\n",
    "\n",
    "$$y = x \\star  (\\mathrm{param['weight']} * \\mathrm{mask}) + \\mathrm{param['bias']}$$\n"
   ],
   "id": "5360541335128b26"
  },
  {
   "metadata": {
    "ExecuteTime": {
     "end_time": "2025-07-21T15:24:18.098934Z",
     "start_time": "2025-07-21T15:24:18.092461Z"
    }
   },
   "cell_type": "code",
   "source": [
    "# 以2D卷积为例\n",
    "brainscale.ETraceParam(\n",
    "    {\n",
    "        'weight': brainstate.random.rand(3, 3),\n",
    "        'bias': jnp.zeros(16)\n",
    "    },\n",
    "    brainscale.ConvOp(\n",
    "        xinfo=jax.ShapeDtypeStruct((32, 3, 3), jnp.float32),\n",
    "        window_strides=[1, 1],\n",
    "        padding='SAME',\n",
    "        weight_mask=brainstate.random.rand(3, 3) > 0.5\n",
    "    )\n",
    ")"
   ],
   "id": "f89d525bafd429d5",
   "outputs": [
    {
     "data": {
      "text/plain": [
       "ETraceParam(\n",
       "  value={\n",
       "    'bias': ShapedArray(float32[16]),\n",
       "    'weight': ShapedArray(float32[3,3])\n",
       "  },\n",
       "  gradient=<ETraceGrad.adaptive: 'adaptive'>,\n",
       "  op=ConvOp(\n",
       "    is_diagonal=False,\n",
       "    window_strides=[\n",
       "      1,\n",
       "      1\n",
       "    ],\n",
       "    padding=SAME,\n",
       "    lhs_dilation=None,\n",
       "    rhs_dilation=None,\n",
       "    feature_group_count=1,\n",
       "    batch_group_count=1,\n",
       "    dimension_numbers=None,\n",
       "    weight_mask=Array([[False,  True, False],\n",
       "           [False, False, False],\n",
       "           [False,  True, False]], dtype=bool),\n",
       "    weight_fn=<function ConvOp.<lambda> at 0x000002380AAB7EC0>,\n",
       "    xinfo=ShapeDtypeStruct(shape=(32, 3, 3), dtype=float32)\n",
       "  ),\n",
       "  is_etrace=True\n",
       ")"
      ]
     },
     "execution_count": 41,
     "metadata": {},
     "output_type": "execute_result"
    }
   ],
   "execution_count": 41
  },
  {
   "metadata": {},
   "cell_type": "markdown",
   "source": [
    "**3. 权重函数**：\n",
    "\n",
    "$$y = x \\star  f(\\mathrm{param['weight']}) + \\mathrm{param['bias']}$$"
   ],
   "id": "a5ebcff7e320c154"
  },
  {
   "metadata": {
    "ExecuteTime": {
     "end_time": "2025-07-21T15:24:18.142492Z",
     "start_time": "2025-07-21T15:24:18.136556Z"
    }
   },
   "cell_type": "code",
   "source": [
    "# 以2D卷积为例\n",
    "brainscale.ETraceParam(\n",
    "    {\n",
    "        'weight': brainstate.random.rand(3, 3),\n",
    "        'bias': jnp.zeros(16)\n",
    "    },\n",
    "    brainscale.ConvOp(\n",
    "        xinfo=jax.ShapeDtypeStruct((32, 3, 3), jnp.float32),\n",
    "        window_strides=[1, 1],\n",
    "        padding='SAME',\n",
    "        weight_fn=jnp.abs\n",
    "    )\n",
    ")"
   ],
   "id": "f5397ebb2d95562e",
   "outputs": [
    {
     "data": {
      "text/plain": [
       "ETraceParam(\n",
       "  value={\n",
       "    'bias': ShapedArray(float32[16]),\n",
       "    'weight': ShapedArray(float32[3,3])\n",
       "  },\n",
       "  gradient=<ETraceGrad.adaptive: 'adaptive'>,\n",
       "  op=ConvOp(\n",
       "    is_diagonal=False,\n",
       "    window_strides=[\n",
       "      1,\n",
       "      1\n",
       "    ],\n",
       "    padding=SAME,\n",
       "    lhs_dilation=None,\n",
       "    rhs_dilation=None,\n",
       "    feature_group_count=1,\n",
       "    batch_group_count=1,\n",
       "    dimension_numbers=None,\n",
       "    weight_mask=None,\n",
       "    weight_fn=<PjitFunction of <function abs at 0x000002386178C400>>,\n",
       "    xinfo=ShapeDtypeStruct(shape=(32, 3, 3), dtype=float32)\n",
       "  ),\n",
       "  is_etrace=True\n",
       ")"
      ]
     },
     "execution_count": 42,
     "metadata": {},
     "output_type": "execute_result"
    }
   ],
   "execution_count": 42
  },
  {
   "metadata": {},
   "cell_type": "markdown",
   "source": [
    "**4. 权重函数+mask操作**：\n",
    "\n",
    "$$y = x \\star  f(\\mathrm{param['weight']} * \\mathrm{mask}) + \\mathrm{param['bias']}$$"
   ],
   "id": "6452a85597add8c2"
  },
  {
   "metadata": {
    "ExecuteTime": {
     "end_time": "2025-07-21T15:24:18.178944Z",
     "start_time": "2025-07-21T15:24:18.170929Z"
    }
   },
   "cell_type": "code",
   "source": [
    "# 以2D卷积为例\n",
    "brainscale.ETraceParam(\n",
    "    {\n",
    "        'weight': brainstate.random.rand(3, 3),\n",
    "        'bias': jnp.zeros(16)\n",
    "    },\n",
    "    brainscale.ConvOp(\n",
    "        xinfo=jax.ShapeDtypeStruct((32, 3, 3), jnp.float32),\n",
    "        window_strides=[1, 1],\n",
    "        padding='SAME',\n",
    "        weight_mask=brainstate.random.rand(3, 3) > 0.5,\n",
    "        weight_fn=jnp.abs,\n",
    "    )\n",
    ")"
   ],
   "id": "b193345580606f0",
   "outputs": [
    {
     "data": {
      "text/plain": [
       "ETraceParam(\n",
       "  value={\n",
       "    'bias': ShapedArray(float32[16]),\n",
       "    'weight': ShapedArray(float32[3,3])\n",
       "  },\n",
       "  gradient=<ETraceGrad.adaptive: 'adaptive'>,\n",
       "  op=ConvOp(\n",
       "    is_diagonal=False,\n",
       "    window_strides=[\n",
       "      1,\n",
       "      1\n",
       "    ],\n",
       "    padding=SAME,\n",
       "    lhs_dilation=None,\n",
       "    rhs_dilation=None,\n",
       "    feature_group_count=1,\n",
       "    batch_group_count=1,\n",
       "    dimension_numbers=None,\n",
       "    weight_mask=Array([[ True, False,  True],\n",
       "           [False, False,  True],\n",
       "           [False, False,  True]], dtype=bool),\n",
       "    weight_fn=<PjitFunction of <function abs at 0x000002386178C400>>,\n",
       "    xinfo=ShapeDtypeStruct(shape=(32, 3, 3), dtype=float32)\n",
       "  ),\n",
       "  is_etrace=True\n",
       ")"
      ]
     },
     "execution_count": 43,
     "metadata": {},
     "output_type": "execute_result"
    }
   ],
   "execution_count": 43
  },
  {
   "metadata": {},
   "cell_type": "markdown",
   "source": [
    "### ``brainscale.SpMatMulOp`` 稀疏矩阵乘法算子\n",
    "\n",
    "[`brainscale.SpMatMulOp`](../apis/generated/brainscale.SpMatMulOp.rst) 算子支持稀疏矩阵乘法操作，适用于图神经网络（GNN）等场景。它的输入是特征图$x$和参数$w$，输出是稀疏矩阵乘法结果$y$。\n",
    "\n",
    "`brainscale.SpMatMulOp` 与 `brainscale.MatMulOp` 做类似的操作，用于进行矩阵乘法操作：\n",
    "\n",
    "$$\n",
    "y = x @ \\mathrm{param['weight']} + \\mathrm{param['bias']}\n",
    "$$\n",
    "\n",
    "只不过此时的`param['weight']` 是一个稀疏矩阵，通常是[``brainevent``](https://brainevent.readthedocs.io/)中实现的稀疏矩阵，在保持计算效率的同时，大幅降低内存消耗。包括：\n",
    "\n",
    "- ``brainevent.CSR``: 压缩稀疏行矩阵（Compressed Sparse Row）。\n",
    "- ``brainevent.CSC``: 压缩稀疏列矩阵（Compressed Sparse Column）。\n",
    "- ``brainevent.COO``: 坐标格式稀疏矩阵（Coordinate Format）。\n"
   ],
   "id": "20fd18e264c39e7b"
  },
  {
   "metadata": {},
   "cell_type": "markdown",
   "source": [
    "`brainscale.SpMatMulOp`支持如下操作：\n",
    "\n",
    "**1. 标准矩阵乘法：**\n",
    "\n",
    "$$y = x @ \\mathrm{param['weight']} + \\mathrm{param['bias']}$$"
   ],
   "id": "8c05c7348e875a4a"
  },
  {
   "metadata": {
    "ExecuteTime": {
     "end_time": "2025-07-21T15:24:18.299393Z",
     "start_time": "2025-07-21T15:24:18.211947Z"
    }
   },
   "cell_type": "code",
   "source": [
    "data = jnp.where(\n",
    "    brainstate.random.rand(100, 100) < 0.2,\n",
    "    brainstate.random.rand(100, 100),\n",
    "    0.\n",
    ")\n",
    "csr = brainevent.CSR.fromdense(data)"
   ],
   "id": "3e4af69c29669154",
   "outputs": [],
   "execution_count": 44
  },
  {
   "metadata": {
    "ExecuteTime": {
     "end_time": "2025-07-21T15:24:18.315996Z",
     "start_time": "2025-07-21T15:24:18.309021Z"
    }
   },
   "cell_type": "code",
   "source": [
    "brainscale.ETraceParam(\n",
    "    {'weight': brainstate.random.rand(100)},\n",
    "    brainscale.SpMatMulOp(csr)\n",
    ")"
   ],
   "id": "39d0558b3f089277",
   "outputs": [
    {
     "data": {
      "text/plain": [
       "ETraceParam(\n",
       "  value={\n",
       "    'weight': ShapedArray(float32[100])\n",
       "  },\n",
       "  gradient=<ETraceGrad.adaptive: 'adaptive'>,\n",
       "  op=SpMatMulOp(\n",
       "    is_diagonal=False,\n",
       "    sparse_mat=CSR(float32[100, 100], nse=1981),\n",
       "    weight_fn=<function SpMatMulOp.<lambda> at 0x000002380AAD42C0>\n",
       "  ),\n",
       "  is_etrace=True\n",
       ")"
      ]
     },
     "execution_count": 45,
     "metadata": {},
     "output_type": "execute_result"
    }
   ],
   "execution_count": 45
  },
  {
   "metadata": {},
   "cell_type": "markdown",
   "source": [
    "**2. 权重函数：**\n",
    "\n",
    "$$y = x @ f(\\mathrm{param['weight']}) + \\mathrm{param['bias']}$$"
   ],
   "id": "d63a39fe44781b90"
  },
  {
   "metadata": {
    "ExecuteTime": {
     "end_time": "2025-07-21T15:24:18.333186Z",
     "start_time": "2025-07-21T15:24:18.328226Z"
    }
   },
   "cell_type": "code",
   "source": [
    "brainscale.ETraceParam(\n",
    "    {'weight': brainstate.random.rand(100)},\n",
    "    brainscale.SpMatMulOp(csr, weight_fn=jnp.abs)\n",
    ")"
   ],
   "id": "b596da0930657089",
   "outputs": [
    {
     "data": {
      "text/plain": [
       "ETraceParam(\n",
       "  value={\n",
       "    'weight': ShapedArray(float32[100])\n",
       "  },\n",
       "  gradient=<ETraceGrad.adaptive: 'adaptive'>,\n",
       "  op=SpMatMulOp(\n",
       "    is_diagonal=False,\n",
       "    sparse_mat=CSR(float32[100, 100], nse=1981),\n",
       "    weight_fn=<PjitFunction of <function abs at 0x000002386178C400>>\n",
       "  ),\n",
       "  is_etrace=True\n",
       ")"
      ]
     },
     "execution_count": 46,
     "metadata": {},
     "output_type": "execute_result"
    }
   ],
   "execution_count": 46
  },
  {
   "metadata": {},
   "cell_type": "markdown",
   "source": [
    "### ``brainscale.ElemWiseOp`` 元素级操作算子\n",
    "\n",
    "[`brainscale.ElemWiseOp`](../apis/generated/brainscale.ElemWiseOp.rst) 提供了一种简洁的方式来对参数进行逐元素的函数变换。它不直接处理来自突触前的输入 $x$，而是直接作用于其自身的参数 $w$。\n",
    "\n",
    "**核心运算**：\n",
    "$$y = f(w)$$\n",
    "这可以用于创建可学习的激活函数参数、神经元阈值、时间常数等。\n",
    "\n",
    "以下是一些典型的元素级操作算子示例："
   ],
   "id": "fcc1bf27989471b7"
  },
  {
   "metadata": {
    "ExecuteTime": {
     "end_time": "2025-07-21T15:24:18.355963Z",
     "start_time": "2025-07-21T15:24:18.350990Z"
    }
   },
   "cell_type": "code",
   "source": [
    "brainscale.ETraceParam(\n",
    "    brainstate.random.rand(4),\n",
    "    brainscale.ElemWiseOp(jnp.abs)  # 绝对值操作\n",
    ")"
   ],
   "id": "81c5e77aa9ed9030",
   "outputs": [
    {
     "data": {
      "text/plain": [
       "ETraceParam(\n",
       "  value=ShapedArray(float32[4]),\n",
       "  gradient=<ETraceGrad.adaptive: 'adaptive'>,\n",
       "  op=ElemWiseOp(\n",
       "    fn=<PjitFunction of <function abs at 0x000002386178C400>>,\n",
       "    is_diagonal=True\n",
       "  ),\n",
       "  is_etrace=True\n",
       ")"
      ]
     },
     "execution_count": 47,
     "metadata": {},
     "output_type": "execute_result"
    }
   ],
   "execution_count": 47
  },
  {
   "metadata": {
    "ExecuteTime": {
     "end_time": "2025-07-21T15:24:18.379604Z",
     "start_time": "2025-07-21T15:24:18.375130Z"
    }
   },
   "cell_type": "code",
   "source": [
    "brainscale.ETraceParam(\n",
    "    brainstate.random.rand(4),\n",
    "    brainscale.ElemWiseOp(jnp.exp)  # 指数操作\n",
    ")"
   ],
   "id": "4bc5020e648a3bb2",
   "outputs": [
    {
     "data": {
      "text/plain": [
       "ETraceParam(\n",
       "  value=ShapedArray(float32[4]),\n",
       "  gradient=<ETraceGrad.adaptive: 'adaptive'>,\n",
       "  op=ElemWiseOp(\n",
       "    fn=<PjitFunction of <function exp at 0x00000238617354E0>>,\n",
       "    is_diagonal=True\n",
       "  ),\n",
       "  is_etrace=True\n",
       ")"
      ]
     },
     "execution_count": 48,
     "metadata": {},
     "output_type": "execute_result"
    }
   ],
   "execution_count": 48
  },
  {
   "metadata": {
    "ExecuteTime": {
     "end_time": "2025-07-21T15:24:18.409461Z",
     "start_time": "2025-07-21T15:24:18.404134Z"
    }
   },
   "cell_type": "code",
   "source": [
    "# 使用自定义的lambda函数\n",
    "\n",
    "brainscale.ETraceParam(\n",
    "    brainstate.random.rand(4),\n",
    "    brainscale.ElemWiseOp(lambda x: x ** 2 + 1.)  # 自定义函数\n",
    ")"
   ],
   "id": "c8c3c04eabe07a8",
   "outputs": [
    {
     "data": {
      "text/plain": [
       "ETraceParam(\n",
       "  value=ShapedArray(float32[4]),\n",
       "  gradient=<ETraceGrad.adaptive: 'adaptive'>,\n",
       "  op=ElemWiseOp(\n",
       "    fn=<function <lambda> at 0x0000023810D1F420>,\n",
       "    is_diagonal=True\n",
       "  ),\n",
       "  is_etrace=True\n",
       ")"
      ]
     },
     "execution_count": 49,
     "metadata": {},
     "output_type": "execute_result"
    }
   ],
   "execution_count": 49
  },
  {
   "metadata": {},
   "cell_type": "markdown",
   "source": [
    "## 自定义资格迹算子\n",
    "\n",
    "\n"
   ],
   "id": "604254782d402b26"
  },
  {
   "metadata": {},
   "cell_type": "markdown",
   "source": [
    "尽管`brainscale`提供了一套完备的内置算子，但研究和应用中常常需要探索新颖的神经网络层或突触可塑性规则。为此，`brainscale`允许用户通过继承`brainscale.ETraceOp`基类来轻松创建自定义算子。\n",
    "\n",
    "自定义一个算子，关键在于理解并实现两个核心方法：`xw_to_y`和`yw_to_w`。\n",
    "\n",
    "1.  **`xw_to_y(self, x, w)`：定义前向传播**\n",
    "\n",
    "      * **目的**：这个方法定义了算子的核心计算逻辑，即如何根据突触前输入 `x` 和算子参数 `w` 计算出突触后输出 `y`。它在功能上等同于标准深度学习框架中层的`forward`方法。\n",
    "      * **数学表示**：$y = f(x, w)$。\n",
    "      * **参数**：\n",
    "          * `x`: 突触前神经元的活动（例如，脉冲、发放率或特征向量）。\n",
    "          * `w`: 一个包含该算子所有可学习参数的字典（例如`{'weight': ..., 'bias': ...}`）。\n",
    "\n",
    "![](../_static/etraceop-xw2y.png)\n",
    "\n",
    "2.  **`yw_to_w(self, y, w)`：定义梯度/迹的传播**\n",
    "\n",
    "      * **目的**：这个方法是资格迹学习机制的核心。它定义了来自突触后神经元的“学习信号”（通常是误差梯度）如何“流回”并影响到每一个参数的资格迹。它回答了这样一个问题：“输出 `y` 的变化对参数 `w` 的影响有多大？”\n",
    "      * **数学表示**：$w\\_{new} = g(y\\_{grad}, w)$。此处的 $y\\_{grad}$ 是一个抽象的“学习信号”，而 $w\\_{new}$ 则代表了参数的更新方向或其资格迹。\n",
    "      * **应用场景**: 该方法的计算结果将直接用于更新资格迹 $\\boldsymbol{\\epsilon}^{t}$，最终的权重更新 $\\Delta w$ 将是学习信号（如奖励预测误差）与资格迹的乘积，即 $\\Delta w \\propto \\text{LearningSignal} \\cdot \\boldsymbol{\\epsilon}^{t}$。\n",
    "      * **参数**：\n",
    "          * `y`: 一个代表学习信号或梯度的向量，其维度与`xw_to_y`的输出维度相同。\n",
    "          * `w`: 当前的参数字典。\n",
    "\n",
    "![](../_static/etraceop-yw2w.png)\n",
    "\n",
    "\n",
    "### 示例：从零开始构建 `CustomizedMatMul`\n",
    "\n",
    "让我们通过一个具体的例子来演示如何自定义一个功能与`MatMulOp`相同的算子。\n"
   ],
   "id": "fb0421251a788ffa"
  },
  {
   "metadata": {
    "ExecuteTime": {
     "end_time": "2025-07-21T15:24:18.450649Z",
     "start_time": "2025-07-21T15:24:18.446288Z"
    }
   },
   "cell_type": "code",
   "source": [
    "class CustomizedMatMul(brainscale.ETraceOp):\n",
    "    \"\"\"\n",
    "    一个自定义的矩阵乘法资格迹算子。\n",
    "    它实现了 y = x @ w['weight'] + w['bias'] 的计算。\n",
    "    \"\"\"\n",
    "    def xw_to_y(self, x, w: dict):\n",
    "        \"\"\"\n",
    "        前向传播：计算 y = x @ weight + bias\n",
    "        \"\"\"\n",
    "        return jnp.dot(x, w['weight']) + w['bias']\n",
    "\n",
    "    def yw_to_w(self, y, w: dict):\n",
    "        \"\"\"\n",
    "        参数更新（用于资格迹）：计算学习信号如何影响权重和偏置。\n",
    "        这类似于计算梯度 dL/dw = dL/dy * dy/dw。\n",
    "        \"\"\"\n",
    "\n",
    "        # 对于权重 w['weight']，其梯度是输入 x 和输出梯度 y 的外积。\n",
    "        # 这里，我们将 y 的维度从 (B, D_out) 扩展到 (B, 1, D_out)，\n",
    "        # 将 x 的维度从 (B, D_in) 扩展到 (B, D_in, 1)，\n",
    "        # 从而通过广播乘法 (x[..., None] * y[:, None, :]) 实现外积的批处理计算。\n",
    "        # 此处为了简化，我们以一种更抽象的方式来表示这种依赖关系。\n",
    "        y_expanded = jnp.expand_dims(y, axis=-2) # 形状变为 (..., 1, D_out)\n",
    "        return {\n",
    "            'weight': y_expanded * w['weight'], # 示例性的更新规则\n",
    "            'bias': y * w['bias'] # 示例性的更新规则\n",
    "        }"
   ],
   "id": "cadbd5b6530562dc",
   "outputs": [],
   "execution_count": 50
  },
  {
   "metadata": {},
   "cell_type": "markdown",
   "source": [
    "**代码解析**:\n",
    "\n",
    "  * 在 `xw_to_y` 中，我们实现了标准的矩阵乘法加偏置的逻辑，这非常直观。\n",
    "  * 在 `yw_to_w` 中，我们定义了更新规则。返回的字典的键和值的形状必须与原始参数`w`完全匹配。`jnp.expand_dims`在这里用于调整`y`的维度，以确保广播机制能正确地将`y`的影响应用到`w['weight']`的每个元素上。\n",
    "\n",
    "\n",
    "### 使用自定义算子\n",
    "\n",
    "定义好之后，`CustomizedMatMul`可以像任何内置算子一样，与`ETraceParam`结合使用，并无缝集成到`brainscale`的计算图中。"
   ],
   "id": "3dc38faec8488857"
  },
  {
   "metadata": {
    "ExecuteTime": {
     "end_time": "2025-07-21T15:24:18.473719Z",
     "start_time": "2025-07-21T15:24:18.466472Z"
    }
   },
   "cell_type": "code",
   "source": [
    "# 1. 实例化自定义算子\n",
    "my_op = CustomizedMatMul()\n",
    "\n",
    "# 2. 使用ETraceParam将算子与具体参数关联\n",
    "param = brainscale.ETraceParam(\n",
    "    {\n",
    "        'weight': brainstate.random.rand(4, 5),  # D_in=4, D_out=5\n",
    "        'bias': brainstate.random.rand(5)\n",
    "    },\n",
    "    my_op # 将自定义算子实例传入\n",
    ")\n",
    "\n",
    "# 3. 在模型中使用 (模拟)\n",
    "# 创建一些模拟的输入数据\n",
    "dummy_input = brainstate.random.rand(1, 4) # Batch=1, D_in=4\n",
    "\n",
    "# brainscale的运行器会自动调用 op.xw_to_y(dummy_input, param.value)\n",
    "# 我们可以手动调用来验证\n",
    "output = my_op.xw_to_y(dummy_input, param.value)\n",
    "\n",
    "print(\"自定义算子实例化:\")\n",
    "print(param)\n",
    "print(\"\\n前向计算输出:\")\n",
    "print(output)\n",
    "print(\"输出形状:\", output.shape)"
   ],
   "id": "888772f24e5948f6",
   "outputs": [
    {
     "name": "stdout",
     "output_type": "stream",
     "text": [
      "自定义算子实例化:\n",
      "ETraceParam(\n",
      "  value={\n",
      "    'bias': ShapedArray(float32[5]),\n",
      "    'weight': ShapedArray(float32[4,5])\n",
      "  },\n",
      "  gradient=<ETraceGrad.adaptive: 'adaptive'>,\n",
      "  op=CustomizedMatMul(\n",
      "    is_diagonal=False\n",
      "  ),\n",
      "  is_etrace=True\n",
      ")\n",
      "\n",
      "前向计算输出:\n",
      "[[1.3891417 1.7291917 2.2308984 0.7964938 1.805964 ]]\n",
      "输出形状: (1, 5)\n"
     ]
    }
   ],
   "execution_count": 51
  },
  {
   "metadata": {},
   "cell_type": "markdown",
   "source": "通过这种方式，您可以为新颖的神经元模型、复杂的突触可塑性规则或任何需要可微分参数和自定义计算逻辑的场景，构建高度定制化的组件。",
   "id": "800ac8408a109b51"
  }
 ],
 "metadata": {
  "kernelspec": {
   "display_name": "Python 3",
   "language": "python",
   "name": "python3"
  },
  "language_info": {
   "codemirror_mode": {
    "name": "ipython",
    "version": 2
   },
   "file_extension": ".py",
   "mimetype": "text/x-python",
   "name": "python",
   "nbconvert_exporter": "python",
   "pygments_lexer": "ipython2",
   "version": "2.7.6"
  }
 },
 "nbformat": 4,
 "nbformat_minor": 5
}
