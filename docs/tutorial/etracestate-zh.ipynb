{
 "cells": [
  {
   "metadata": {},
   "cell_type": "markdown",
   "source": [
    "# `ETraceState`: 资格迹状态\n",
    "\n",
    "\n",
    "在 `brainscale` 框架中，`ETraceState` 类系列提供了强大的状态管理功能，专门用于实现**资格迹（Eligibility Trace）在线学习机制**。资格迹是强化学习和神经网络训练中的重要概念，它允许系统追踪和更新神经元及突触的历史活动，从而实现更高效的学习算法。"
   ],
   "id": "6908d888efacaf39"
  },
  {
   "metadata": {},
   "cell_type": "markdown",
   "source": [
    "## 核心特性\n",
    "\n",
    "- **状态追踪**: 实时记录神经元和突触的动态状态\n",
    "- **在线学习**: 支持基于资格迹的实时参数更新\n",
    "- **灵活架构**: 适用于单个神经元、多房室模型和复杂树状结构\n",
    "- **高效计算**: 基于 JAX 的高性能数值计算\n"
   ],
   "id": "28ef3b0d7677c80d"
  },
  {
   "cell_type": "code",
   "id": "initial_id",
   "metadata": {
    "collapsed": true,
    "ExecuteTime": {
     "end_time": "2025-07-22T03:17:15.080630Z",
     "start_time": "2025-07-22T03:17:15.076423Z"
    }
   },
   "source": [
    "import brainstate\n",
    "import brainunit as u\n",
    "import jax.numpy as jnp\n",
    "\n",
    "import brainscale"
   ],
   "outputs": [],
   "execution_count": 21
  },
  {
   "metadata": {},
   "cell_type": "markdown",
   "source": [
    "\n",
    "## `brainscale.ETraceState` 类：单一状态管理\n",
    "\n",
    "[`brainscale.ETraceState`](../apis/generated/brainscale.ETraceState.rst) 类实际上是`brainstate.HiddenState`的一个子类，，专门设计用于管理单个神经元或突触的状态变量。每个实例只能表示一个状态维度，确保了状态管理的清晰性和可控性。\n",
    "\n",
    "\n",
    "### 实际应用：GIF 神经元模型\n",
    "\n",
    "**广义积分发放（GIF）神经元**是一种先进的神经元模型，具有适应性机制和动态阈值。其数学描述如下：\n",
    "\n",
    "\n",
    "$$\n",
    "\\begin{aligned}\n",
    "\\frac{\\mathrm{d} I_1}{\\mathrm{d} t} &= - k_1 I_1 \\quad \\text{(适应性电流1)} \\\\\n",
    "\\frac{\\mathrm{d} I_2}{\\mathrm{d} t} &= - k_2 I_2 \\quad \\text{(适应性电流2)} \\\\\n",
    "\\tau \\frac{\\mathrm{d} V}{\\mathrm{d} t} &= - (V - V_{\\mathrm{rest}}) + R\\sum_{j}I_j + RI \\quad \\text{(膜电位)} \\\\\n",
    "\\frac{\\mathrm{d} V_{\\mathrm{th}}}{\\mathrm{d} t} &= a(V - V_{\\mathrm{rest}}) - b(V_{\\mathrm{th}} - V_{\\mathrm{th}\\infty}) \\quad \\text{(动态阈值)}\n",
    "\\end{aligned}\n",
    "$$\n",
    "\n",
    "\n",
    "当 $V > V_{\\mathrm{th}}$ 时，神经元发放并执行重置：\n",
    "\n",
    "$$\n",
    "\\begin{aligned}\n",
    "I_1 &\\leftarrow R_1 I_1 + A_1 \\\\\n",
    "I_2 &\\leftarrow R_2 I_2 + A_2 \\\\\n",
    "V &\\leftarrow V_{\\mathrm{reset}} \\\\\n",
    "V_{\\mathrm{th}} &\\leftarrow \\max(V_{\\mathrm{th,reset}}, V_{\\mathrm{th}})\n",
    "\\end{aligned}\n",
    "$$\n",
    "\n",
    "其中，$V$ 是膜电位，$V_{rest}$ 是静息电位，$R$ 是膜电阻，$I$ 是输入电流，$V_{th}$ 是阈值电位，$V_{th\\infty}$ 是静息阈值电位，$a$ 和 $b$ 是阈值动力学参数，$I_j$ 是适应性电流，表示任意数量的内部电流，$R_j$ 是适应性电流的衰减系数，$A_j$ 是适应性电流的增量，$V_\\mathrm{reset}$ 是重置电位，$V_{th, \\mathrm{reset}}$ 是阈值重置电位。\n",
    "\n",
    "\n",
    "对于GIF神经元模型，我们需要使用四个`brainscale.ETraceState`类来定义它的四个状态。以下是一个示例代码："
   ],
   "id": "361b630b2ab9ed8d"
  },
  {
   "metadata": {
    "ExecuteTime": {
     "end_time": "2025-07-22T03:17:15.114705Z",
     "start_time": "2025-07-22T03:17:15.107904Z"
    }
   },
   "cell_type": "code",
   "source": [
    "class GIF(brainstate.nn.Neuron):\n",
    "    \"\"\"广义积分发放神经元模型\n",
    "\n",
    "    实现了具有双重适应性电流和动态阈值的神经元模型\n",
    "    \"\"\"\n",
    "\n",
    "    def __init__(self, size, **kwargs):\n",
    "        super().__init__(size, **kwargs)\n",
    "\n",
    "        # 模型参数\n",
    "        self.tau = 20.0 * u.ms  # 膜时间常数\n",
    "        self.R = 100.0 * u.ohm  # 膜电阻\n",
    "        self.V_rest = -70.0 * u.mV  # 静息电位\n",
    "        self.V_reset = -80.0 * u.mV  # 重置电位\n",
    "        self.V_th_inf = -50.0 * u.mV  # 静息阈值\n",
    "\n",
    "        # 适应性参数\n",
    "        self.k1 = 0.1 / u.ms  # 适应性电流1衰减率\n",
    "        self.k2 = 0.05 / u.ms  # 适应性电流2衰减率\n",
    "        self.R1, self.R2 = 0.9, 0.8  # 发放时的衰减系数\n",
    "        self.A1 = 10.0 * u.nA  # 适应性电流1增量\n",
    "        self.A2 = 5.0 * u.nA  # 适应性电流2增量\n",
    "\n",
    "        # 阈值动力学参数\n",
    "        self.a = 0.1 / u.ms  # 阈值适应强度\n",
    "        self.b = 0.02 / u.ms  # 阈值恢复强度\n",
    "\n",
    "    def init_state(self, *args, **kwargs):\n",
    "        # 适应性电流（初始化为零）\n",
    "        self.I1 = brainscale.ETraceState(jnp.zeros(self.varshape) * u.nA)\n",
    "        self.I2 = brainscale.ETraceState(jnp.zeros(self.varshape) * u.nA)\n",
    "\n",
    "        # 膜电位（随机初始化接近静息电位）\n",
    "        self.V = brainscale.ETraceState(\n",
    "            brainstate.random.normal(self.varshape) * 2.0 * u.mV + self.V_rest\n",
    "        )\n",
    "\n",
    "        # 动态阈值（随机初始化）\n",
    "        self.V_th = brainscale.ETraceState(\n",
    "            brainstate.random.uniform(-52.0, -48.0, self.varshape) * u.mV\n",
    "        )\n"
   ],
   "id": "67f03f68679dd902",
   "outputs": [],
   "execution_count": 22
  },
  {
   "metadata": {
    "ExecuteTime": {
     "end_time": "2025-07-22T03:17:15.148242Z",
     "start_time": "2025-07-22T03:17:15.141223Z"
    }
   },
   "cell_type": "code",
   "source": [
    "# 创建并初始化神经元群体\n",
    "gif_neurons = GIF(size=100)  # 100个神经元\n",
    "gif_neurons.init_state()"
   ],
   "id": "6830e52a82e40c85",
   "outputs": [],
   "execution_count": 23
  },
  {
   "metadata": {},
   "cell_type": "markdown",
   "source": "每个`brainscale.ETraceState`类实例都代表一个状态变量，分别对应于GIF神经元模型中的$I_1$、$I_2$、$V$和$V_{th}$。每个状态变量只能定义神经元或突触的一个状态。",
   "id": "90a540fe2214e830"
  },
  {
   "metadata": {
    "ExecuteTime": {
     "end_time": "2025-07-22T03:17:15.176465Z",
     "start_time": "2025-07-22T03:17:15.173003Z"
    }
   },
   "cell_type": "code",
   "source": [
    "print(f\"每个状态变量管理的维度数: {gif_neurons.I1.num_state}\")\n",
    "print(f\"神经元群体形状: {gif_neurons.I1.varshape}\")"
   ],
   "id": "24a681357e9455ca",
   "outputs": [
    {
     "name": "stdout",
     "output_type": "stream",
     "text": [
      "每个状态变量管理的维度数: 1\n",
      "神经元群体形状: (100,)\n"
     ]
    }
   ],
   "execution_count": 24
  },
  {
   "metadata": {},
   "cell_type": "markdown",
   "source": [
    "### 关键特性说明\n",
    "\n",
    "- **独立性**: 每个 `ETraceState` 实例管理一个独立的状态变量\n",
    "- **类型安全**: 支持物理单位，确保计算的正确性\n",
    "- **追踪能力**: 自动记录状态变化历史，支持资格迹计算\n"
   ],
   "id": "b5dbb84f674f93ec"
  },
  {
   "metadata": {},
   "cell_type": "markdown",
   "source": [
    "## `brainscale.ETraceGroupState` 类：群组状态管理\n",
    "\n",
    "[`brainscale.ETraceGroupState`](../apis/generated/brainscale.ETraceGroupState.rst) 类专门用于定义神经元或突触群体的多个状态。它是`brainscale.ETraceState`类的一个子类，继承了其所有属性和方法。\n",
    "\n",
    "在多房室神经元模型(multi-compartment neuron model)中，每一个变量表示多个房室的状态，比如膜电位。如果将每个房室的膜电位使用一个`brainscale.ETraceState`类来定义，那么在多房室神经元模型中就需要定义多个状态变量，这样会导致代码冗长且难以维护。然而，使用`brainscale.ETraceGroupState`类可以将多个状态变量组合在一起，简化代码结构。\n",
    "\n",
    "在以下示例中，我们将使用`brainscale.ETraceGroupState`类来定义一个三房室神经元模型的状态变量。\n",
    "\n",
    "### 多房室神经元建模"
   ],
   "id": "cc467a4c3d0a3b7"
  },
  {
   "metadata": {
    "ExecuteTime": {
     "end_time": "2025-07-22T03:17:15.218104Z",
     "start_time": "2025-07-22T03:17:15.203313Z"
    }
   },
   "cell_type": "code",
   "source": [
    "import braincell\n",
    "\n",
    "# Instantiate a Morphology object\n",
    "morphology = braincell.Morphology()\n",
    "\n",
    "# Create individual sections using the creation methods\n",
    "morphology.add_cylinder_section('soma', length=20 * u.um, diam=10 * u.um, nseg=1)  # Soma section\n",
    "morphology.add_cylinder_section('axon', length=100 * u.um, diam=1 * u.um, nseg=2)  # Axon section\n",
    "morphology.add_point_section(\n",
    "    'dendrite',\n",
    "    positions=[[0, 0, 0], [100, 0, 0], [200, 0, 0]] * u.um,\n",
    "    diams=[2, 3, 2] * u.um,\n",
    "    nseg=3\n",
    ")  # Dendrite section with explicit points and diameters\n",
    "\n",
    "# Connect the sections: axon and dendrite connected to soma\n",
    "morphology.connect('axon', 'soma', parent_loc=1.0)  # Axon connects to soma at the end\n",
    "morphology.connect('dendrite', 'soma', parent_loc=1.0)  # Dendrite connects to soma at the end\n",
    "\n",
    "# Print a summary of the morphology\n",
    "morphology"
   ],
   "id": "856847787d88b68d",
   "outputs": [
    {
     "data": {
      "text/plain": [
       "Morphology(\n",
       "  sections={\n",
       "    'soma': Section<name='soma', nseg=1, points=2, Ra=100.0 * ohm * cmetre, cm=1.0 * ufarad / cmeter2, parent=None, parent_loc=None>,\n",
       "    'axon': Section<name='axon', nseg=2, points=2, Ra=100.0 * ohm * cmetre, cm=1.0 * ufarad / cmeter2, parent='soma', parent_loc=1.0>,\n",
       "    'dendrite': Section<name='dendrite', nseg=3, points=3, Ra=100.0 * ohm * cmetre, cm=1.0 * ufarad / cmeter2, parent='soma', parent_loc=1.0>\n",
       "  }\n",
       ")"
      ]
     },
     "execution_count": 25,
     "metadata": {},
     "output_type": "execute_result"
    }
   ],
   "execution_count": 25
  },
  {
   "metadata": {
    "ExecuteTime": {
     "end_time": "2025-07-22T03:17:15.258809Z",
     "start_time": "2025-07-22T03:17:15.254789Z"
    }
   },
   "cell_type": "code",
   "source": [
    "class ThreeCompartmentNeuron(braincell.MultiCompartment):\n",
    "    def __init__(self, pop_size, morphology):\n",
    "        super().__init__(pop_size, morphology=morphology)\n",
    "\n",
    "    def init_state(self, *args, **kwargs):\n",
    "        self.V = brainscale.ETraceGroupState(jnp.zeros(self.varshape) * u.mV)"
   ],
   "id": "d3e4d3e813a3d362",
   "outputs": [],
   "execution_count": 26
  },
  {
   "metadata": {
    "ExecuteTime": {
     "end_time": "2025-07-22T03:17:15.290801Z",
     "start_time": "2025-07-22T03:17:15.287286Z"
    }
   },
   "cell_type": "code",
   "source": [
    "multi_neuron = ThreeCompartmentNeuron(10, morphology)\n",
    "multi_neuron.init_state()"
   ],
   "id": "5bd7906b651d0f57",
   "outputs": [],
   "execution_count": 27
  },
  {
   "metadata": {},
   "cell_type": "markdown",
   "source": "每个`brainscale.ETraceGroupState`实例都代表一个状态变量，包含了多个房室的状态信息。在这个例子中，我们只定义了膜电位$V$的状态变量，但实际上可以定义更多的状态变量，比如适应性电流$I_j$等。每个状态变量可以包含多个房室的状态信息，这样就可以在多房室神经元模型中使用。",
   "id": "4c0e08a7f685bf"
  },
  {
   "metadata": {
    "ExecuteTime": {
     "end_time": "2025-07-22T03:17:15.323729Z",
     "start_time": "2025-07-22T03:17:15.319189Z"
    }
   },
   "cell_type": "code",
   "source": [
    "print(f\"总房室数量: {multi_neuron.V.num_state}\")\n",
    "print(f\"状态形状: {multi_neuron.V.varshape}\")\n",
    "print(f\"神经元群体大小: {multi_neuron.pop_size}\")"
   ],
   "id": "27c8f274a7ef03ae",
   "outputs": [
    {
     "name": "stdout",
     "output_type": "stream",
     "text": [
      "总房室数量: 6\n",
      "神经元群体大小: (10,)\n",
      "状态形状: (10,)\n"
     ]
    }
   ],
   "execution_count": 28
  },
  {
   "metadata": {},
   "cell_type": "markdown",
   "source": [
    "### 优势分析\n",
    "\n",
    "- **统一管理**: 单个状态对象管理多个房室，简化代码结构\n",
    "- **空间一致性**: 保持房室间的空间关系和计算一致性\n",
    "- **高效计算**: 向量化操作提高计算效率\n"
   ],
   "id": "c68894699e2a447a"
  },
  {
   "metadata": {},
   "cell_type": "markdown",
   "source": [
    "## `brainscale.ETraceTreeState` 类：树状结构状态\n",
    "\n",
    "\n",
    "[`brainscale.ETraceTreeState`](../apis/generated/brainscale.ETraceTreeState.rst) 提供了最灵活的状态管理方案，支持 **PyTree 树状结构**，适用于具有复杂层次关系的神经网络模型。\n",
    "它是`brainscale.ETraceState`类的一个子类，继承了其所有属性和方法。\n",
    "\n",
    "以下以GIF模型为例，展示如何使用`brainscale.ETraceTreeState`类来定义一个树状结构的状态变量。\n",
    "\n",
    "### 高级应用示例"
   ],
   "id": "e6caca08e7407b3b"
  },
  {
   "metadata": {
    "ExecuteTime": {
     "end_time": "2025-07-22T03:17:15.353670Z",
     "start_time": "2025-07-22T03:17:15.349808Z"
    }
   },
   "cell_type": "code",
   "source": [
    "class GIF_tree(brainstate.nn.Neuron):\n",
    "    def init_state(self, *args, **kwargs):\n",
    "        self.state = brainscale.ETraceTreeState(\n",
    "            {\n",
    "                'I1': jnp.zeros(self.varshape) * u.mA,\n",
    "                'I2': jnp.zeros(self.varshape) * u.mA,\n",
    "                'V': brainstate.random.random(self.varshape) * u.mV,\n",
    "                'Vth': brainstate.random.uniform(1, 2, self.varshape) * u.mV\n",
    "            }\n",
    "        )"
   ],
   "id": "77818e7800738ad6",
   "outputs": [],
   "execution_count": 29
  },
  {
   "metadata": {
    "ExecuteTime": {
     "end_time": "2025-07-22T03:17:15.394840Z",
     "start_time": "2025-07-22T03:17:15.389801Z"
    }
   },
   "cell_type": "code",
   "source": [
    "gif_tree = GIF_tree(5)\n",
    "gif_tree.init_state()"
   ],
   "id": "ce273fa3709b5dca",
   "outputs": [],
   "execution_count": 30
  },
  {
   "metadata": {},
   "cell_type": "markdown",
   "source": "每个`brainscale.ETraceTreeState`实例都代表一个树状结构的状态变量，包含了多个子状态变量。在这个例子中，我们定义了$I_1$、$I_2$、$V$和$V_{th}$四个状态变量，它们被组织成一个树状结构。",
   "id": "570d6a5aedd18ec4"
  },
  {
   "metadata": {
    "ExecuteTime": {
     "end_time": "2025-07-22T03:17:15.424151Z",
     "start_time": "2025-07-22T03:17:15.420289Z"
    }
   },
   "cell_type": "code",
   "source": "print(f\"状态树包含的独立状态数: {gif_tree.state.num_state}\")",
   "id": "51d8196c8cb241bf",
   "outputs": [
    {
     "name": "stdout",
     "output_type": "stream",
     "text": [
      "状态树包含的独立状态数: 4\n"
     ]
    }
   ],
   "execution_count": 31
  },
  {
   "metadata": {},
   "cell_type": "markdown",
   "source": [
    "### 树状结构的优势\n",
    "\n",
    "- **层次组织**: 逻辑清晰地组织复杂的状态变量\n",
    "- **灵活访问**: 支持嵌套访问和部分更新\n",
    "- **扩展性强**: 易于添加新的状态维度和功能模块\n",
    "- **类型多样**: 支持不同类型和形状的状态变量\n"
   ],
   "id": "8baf485275de57bd"
  },
  {
   "metadata": {},
   "cell_type": "markdown",
   "source": [
    "## 总结\n",
    "\n",
    "`brainscale` 的 `ETraceState` 类系列为神经网络建模提供了强大而灵活的状态管理解决方案：\n",
    "\n",
    "| 类型 | 适用场景 | 优势 | 典型应用 |\n",
    "|------|----------|------|----------|\n",
    "| `ETraceState` | 单一状态变量 | 简单直观，类型安全 | 基础神经元模型 |\n",
    "| `ETraceGroupState` | 同质多状态 | 统一管理，高效计算 | 多房室神经元 |\n",
    "| `ETraceTreeState` | 复杂层次结构 | 灵活组织，易于扩展 | 高级神经网络模型 |\n",
    "\n",
    "选择合适的状态管理类型，可以显著提高代码的可读性、维护性和计算效率，为构建复杂的神经网络模型奠定坚实基础。"
   ],
   "id": "51bf378f0390db27"
  }
 ],
 "metadata": {
  "kernelspec": {
   "display_name": "Python 3",
   "language": "python",
   "name": "python3"
  },
  "language_info": {
   "codemirror_mode": {
    "name": "ipython",
    "version": 2
   },
   "file_extension": ".py",
   "mimetype": "text/x-python",
   "name": "python",
   "nbconvert_exporter": "python",
   "pygments_lexer": "ipython2",
   "version": "2.7.6"
  }
 },
 "nbformat": 4,
 "nbformat_minor": 5
}
