{
 "cells": [
  {
   "metadata": {},
   "cell_type": "markdown",
   "source": [
    "# `ETraceState`: Online Learning State Management\n",
    "\n",
    "In the `brainscale` framework, the `ETraceState` class family provides powerful state management functionality specifically designed for implementing **eligibility trace-based online learning mechanisms**. Eligibility traces are important concepts in reinforcement learning and neural network training, allowing systems to track and update the historical activity of neurons and synapses, thereby enabling more efficient learning algorithms.\n",
    "\n",
    "## Core Features\n",
    "\n",
    "- **State Tracking**: Real-time recording of dynamic states of neurons and synapses\n",
    "- **Online Learning**: Support for parameter online updates based on eligibility traces\n",
    "- **Flexible Architecture**: Applicable to single neurons, multi-compartment models, and complex tree structures\n",
    "- **High-Performance Computing**: Based on JAX for high-performance numerical computation\n"
   ],
   "id": "6908d888efacaf39"
  },
  {
   "cell_type": "code",
   "id": "initial_id",
   "metadata": {
    "collapsed": true,
    "ExecuteTime": {
     "end_time": "2025-07-22T03:23:55.203214Z",
     "start_time": "2025-07-22T03:23:53.868971Z"
    }
   },
   "source": [
    "import brainscale\n",
    "import brainstate\n",
    "import brainunit as u\n",
    "import jax.numpy as jnp"
   ],
   "outputs": [],
   "execution_count": 1
  },
  {
   "metadata": {},
   "cell_type": "markdown",
   "source": [
    "## `brainscale.ETraceState` Class: Single State Management\n",
    "\n",
    "The [`brainscale.ETraceState`](../apis/generated/brainscale.ETraceState.rst) class is actually a subclass of `brainstate.HiddenState`, specifically designed for managing state variables of a single neuron or synapse. Each instance can only represent one state dimension, ensuring clarity and controllability in state management.\n",
    "\n",
    "\n",
    "### Practical Application: GIF Neuron Model\n",
    "\n",
    "**Generalized Integrate-and-Fire (GIF) Neuron** is an advanced neuron model with adaptive mechanisms and dynamic threshold. Its mathematical description is as follows:\n",
    "\n",
    "$$\n",
    "\\begin{aligned}\n",
    "\\frac{\\mathrm{d} I_1}{\\mathrm{d} t} &= - k_1 I_1 \\quad \\text{(Adaptation current 1)} \\\\\n",
    "\\frac{\\mathrm{d} I_2}{\\mathrm{d} t} &= - k_2 I_2 \\quad \\text{(Adaptation current 2)} \\\\\n",
    "\\tau \\frac{\\mathrm{d} V}{\\mathrm{d} t} &= - (V - V_{\\mathrm{rest}}) + R\\sum_{j}I_j + RI \\quad \\text{(Membrane potential)} \\\\\n",
    "\\frac{\\mathrm{d} V_{\\mathrm{th}}}{\\mathrm{d} t} &= a(V - V_{\\mathrm{rest}}) - b(V_{\\mathrm{th}} - V_{\\mathrm{th}\\infty}) \\quad \\text{(Dynamic threshold)}\n",
    "\\end{aligned}\n",
    "$$\n",
    "\n",
    "When $V > V_{\\mathrm{th}}$, the neuron fires and executes reset:\n",
    "\n",
    "$$\n",
    "\\begin{aligned}\n",
    "I_1 &\\leftarrow R_1 I_1 + A_1 \\\\\n",
    "I_2 &\\leftarrow R_2 I_2 + A_2 \\\\\n",
    "V &\\leftarrow V_{\\mathrm{reset}} \\\\\n",
    "V_{\\mathrm{th}} &\\leftarrow \\max(V_{\\mathrm{th,reset}}, V_{\\mathrm{th}})\n",
    "\\end{aligned}\n",
    "$$\n",
    "\n",
    "Where $V$ is the membrane potential, $V_{rest}$ is the resting potential, $R$ is the membrane resistance, $I$ is the input current, $V_{th}$ is the threshold potential, $V_{th\\infty}$ is the resting threshold potential, $a$ and $b$ are threshold dynamics parameters, $I_j$ are adaptation currents representing arbitrary numbers of internal currents, $R_j$ are decay coefficients for adaptation currents, $A_j$ are increments for adaptation currents, $V_\\mathrm{reset}$ is the reset potential, and $V_{th, \\mathrm{reset}}$ is the threshold reset potential.\n",
    "\n",
    "For the GIF neuron model, we need to use four `brainscale.ETraceState` classes to define its four states. Here is an example code:\n",
    "\n"
   ],
   "id": "5b896d8adb163571"
  },
  {
   "metadata": {
    "ExecuteTime": {
     "end_time": "2025-07-22T03:23:55.263279Z",
     "start_time": "2025-07-22T03:23:55.258968Z"
    }
   },
   "cell_type": "code",
   "source": [
    "class GIF(brainstate.nn.Neuron):\n",
    "    \"\"\"\n",
    "    Generalized Integrate-and-Fire Neuron Model\n",
    "\n",
    "    Implements a neuron model with dual adaptive currents and dynamic threshold\n",
    "    \"\"\"\n",
    "\n",
    "    def __init__(self, size, **kwargs):\n",
    "        super().__init__(size, **kwargs)\n",
    "\n",
    "        # Model parameters\n",
    "        self.tau = 20.0 * u.ms  # Membrane time constant\n",
    "        self.R = 100.0 * u.ohm  # Membrane resistance\n",
    "        self.V_rest = -70.0 * u.mV  # Resting potential\n",
    "        self.V_reset = -80.0 * u.mV  # Reset potential\n",
    "        self.V_th_inf = -50.0 * u.mV  # Resting threshold\n",
    "\n",
    "        # Adaptation parameters\n",
    "        self.k1 = 0.1 / u.ms  # Adaptation current 1 decay rate\n",
    "        self.k2 = 0.05 / u.ms  # Adaptation current 2 decay rate\n",
    "        self.R1, self.R2 = 0.9, 0.8  # Decay coefficients during firing\n",
    "        self.A1 = 10.0 * u.nA  # Adaptation current 1 increment\n",
    "        self.A2 = 5.0 * u.nA  # Adaptation current 2 increment\n",
    "\n",
    "        # Threshold dynamics parameters\n",
    "        self.a = 0.1 / u.ms  # Threshold adaptation strength\n",
    "        self.b = 0.02 / u.ms  # Threshold recovery strength\n",
    "\n",
    "    def init_state(self, *args, **kwargs):\n",
    "        # Adaptation currents (initialized to zero)\n",
    "        self.I1 = brainscale.ETraceState(jnp.zeros(self.varshape) * u.nA)\n",
    "        self.I2 = brainscale.ETraceState(jnp.zeros(self.varshape) * u.nA)\n",
    "\n",
    "        # Membrane potential (randomly initialized near resting potential)\n",
    "        self.V = brainscale.ETraceState(\n",
    "            brainstate.random.normal(self.varshape) * 2.0 * u.mV + self.V_rest\n",
    "        )\n",
    "\n",
    "        # Dynamic threshold (randomly initialized)\n",
    "        self.V_th = brainscale.ETraceState(\n",
    "            brainstate.random.uniform(-52.0, -48.0, self.varshape) * u.mV\n",
    "        )"
   ],
   "id": "f6e57eb541a39a1d",
   "outputs": [],
   "execution_count": 2
  },
  {
   "metadata": {
    "ExecuteTime": {
     "end_time": "2025-07-22T03:23:55.625017Z",
     "start_time": "2025-07-22T03:23:55.277633Z"
    }
   },
   "cell_type": "code",
   "source": [
    "# Create and initialize neuron population\n",
    "gif_neurons = GIF(size=100)  # 100 neurons\n",
    "gif_neurons.init_state()"
   ],
   "id": "9858a5f699a9cf39",
   "outputs": [],
   "execution_count": 3
  },
  {
   "metadata": {},
   "cell_type": "markdown",
   "source": "Each `brainscale.ETraceState` class instance represents a state variable, corresponding to $I_1$, $I_2$, $V$, and $V_{th}$ in the GIF neuron model respectively. Each state variable can only define the one state of neuron or synapse.",
   "id": "bd904b7db35163b6"
  },
  {
   "metadata": {
    "ExecuteTime": {
     "end_time": "2025-07-22T03:23:55.649324Z",
     "start_time": "2025-07-22T03:23:55.645599Z"
    }
   },
   "cell_type": "code",
   "source": [
    "print(f\"Dimensions managed by each state variable: {gif_neurons.I1.num_state}\")\n",
    "print(f\"Neuron population shape: {gif_neurons.I1.varshape}\")"
   ],
   "id": "a3bc79b9ed4bfd0b",
   "outputs": [
    {
     "name": "stdout",
     "output_type": "stream",
     "text": [
      "Dimensions managed by each state variable: 1\n",
      "Neuron population shape: (100,)\n"
     ]
    }
   ],
   "execution_count": 4
  },
  {
   "metadata": {},
   "cell_type": "markdown",
   "source": [
    "### Key Feature Description\n",
    "\n",
    "- **Independence**: Each `ETraceState` instance manages an independent state variable\n",
    "- **Type Safety**: Supports physical units, ensuring computational correctness\n",
    "- **Tracking Capability**: Automatically records state change history, supporting eligibility trace computation"
   ],
   "id": "7dea244b42c2866"
  },
  {
   "metadata": {},
   "cell_type": "markdown",
   "source": [
    "## `brainscale.ETraceGroupState` Class: Group State Management\n",
    "\n",
    "The [`brainscale.ETraceGroupState`](../apis/generated/brainscale.ETraceGroupState.rst) class is specifically designed for defining multiple states of neuron or synapse populations. It is a subclass of the `brainscale.ETraceState` class, inheriting all its attributes and methods.\n",
    "\n",
    "In multi-compartment neuron models, each variable represents the state of multiple compartments, such as membrane potential. If each compartment's membrane potential were defined using a separate `brainscale.ETraceState` class, then multiple state variables would need to be defined in multi-compartment neuron models, leading to verbose and difficult-to-maintain code. However, using the `brainscale.ETraceGroupState` class allows multiple state variables to be combined together, simplifying code structure.\n",
    "\n",
    "In the following example, we will use the `brainscale.ETraceGroupState` class to define state variables for a three-compartment neuron model.\n",
    "\n",
    "### Multi-Compartment Neuron Modeling"
   ],
   "id": "f8ac2bbdaf87aff"
  },
  {
   "metadata": {
    "ExecuteTime": {
     "end_time": "2025-07-22T03:23:55.923517Z",
     "start_time": "2025-07-22T03:23:55.664145Z"
    }
   },
   "cell_type": "code",
   "source": [
    "import braincell\n",
    "\n",
    "# Instantiate a Morphology object\n",
    "morphology = braincell.Morphology()\n",
    "\n",
    "# Create individual sections using the creation methods\n",
    "morphology.add_cylinder_section('soma', length=20 * u.um, diam=10 * u.um, nseg=1)  # Soma section\n",
    "morphology.add_cylinder_section('axon', length=100 * u.um, diam=1 * u.um, nseg=2)  # Axon section\n",
    "morphology.add_point_section(\n",
    "    'dendrite',\n",
    "    positions=[[0, 0, 0], [100, 0, 0], [200, 0, 0]] * u.um,\n",
    "    diams=[2, 3, 2] * u.um,\n",
    "    nseg=3\n",
    ")  # Dendrite section with explicit points and diameters\n",
    "\n",
    "# Connect the sections: axon and dendrite connected to soma\n",
    "morphology.connect('axon', 'soma', parent_loc=1.0)  # Axon connects to soma at the end\n",
    "morphology.connect('dendrite', 'soma', parent_loc=1.0)  # Dendrite connects to soma at the end\n",
    "\n",
    "# Print a summary of the morphology\n",
    "morphology"
   ],
   "id": "3e8ba6b8fcbb61de",
   "outputs": [
    {
     "data": {
      "text/plain": [
       "Morphology(\n",
       "  sections={\n",
       "    'soma': Section<name='soma', nseg=1, points=2, Ra=100.0 * ohm * cmetre, cm=1.0 * ufarad / cmeter2, parent=None, parent_loc=None>,\n",
       "    'axon': Section<name='axon', nseg=2, points=2, Ra=100.0 * ohm * cmetre, cm=1.0 * ufarad / cmeter2, parent='soma', parent_loc=1.0>,\n",
       "    'dendrite': Section<name='dendrite', nseg=3, points=3, Ra=100.0 * ohm * cmetre, cm=1.0 * ufarad / cmeter2, parent='soma', parent_loc=1.0>\n",
       "  }\n",
       ")"
      ]
     },
     "execution_count": 5,
     "metadata": {},
     "output_type": "execute_result"
    }
   ],
   "execution_count": 5
  },
  {
   "metadata": {
    "ExecuteTime": {
     "end_time": "2025-07-22T03:23:55.941993Z",
     "start_time": "2025-07-22T03:23:55.938480Z"
    }
   },
   "cell_type": "code",
   "source": [
    "class ThreeCompartmentNeuron(braincell.MultiCompartment):\n",
    "    def __init__(self, pop_size, morphology):\n",
    "        super().__init__(pop_size, morphology=morphology)\n",
    "\n",
    "    def init_state(self, *args, **kwargs):\n",
    "        self.V = brainscale.ETraceGroupState(jnp.zeros(self.varshape) * u.mV)"
   ],
   "id": "8aa6a12a956ff868",
   "outputs": [],
   "execution_count": 6
  },
  {
   "metadata": {
    "ExecuteTime": {
     "end_time": "2025-07-22T03:23:55.972789Z",
     "start_time": "2025-07-22T03:23:55.955379Z"
    }
   },
   "cell_type": "code",
   "source": [
    "multi_neuron = ThreeCompartmentNeuron(10, morphology)\n",
    "multi_neuron.init_state()"
   ],
   "id": "95ebcc3335f09d44",
   "outputs": [],
   "execution_count": 7
  },
  {
   "metadata": {},
   "cell_type": "markdown",
   "source": "Each `brainscale.ETraceGroupState` instance represents a state variable containing state information for multiple compartments. In this example, we only defined the membrane potential $V$ state variable, but actually more state variables can be defined, such as adaptation currents $I_j$, etc. Each state variable can contain state information for multiple compartments, making it usable in multi-compartment neuron models.",
   "id": "e1db746ac67a9c1c"
  },
  {
   "metadata": {
    "ExecuteTime": {
     "end_time": "2025-07-22T03:23:55.999732Z",
     "start_time": "2025-07-22T03:23:55.996143Z"
    }
   },
   "cell_type": "code",
   "source": [
    "print(f\"Total number of compartments: {multi_neuron.V.num_state}\")\n",
    "print(f\"State shape: {multi_neuron.V.varshape}\")\n",
    "print(f\"Neuron population size: {multi_neuron.pop_size}\")"
   ],
   "id": "a30ed4d936cdb08a",
   "outputs": [
    {
     "name": "stdout",
     "output_type": "stream",
     "text": [
      "Total number of compartments: 6\n",
      "State shape: (10,)\n",
      "Neuron population size: (10,)\n"
     ]
    }
   ],
   "execution_count": 8
  },
  {
   "metadata": {},
   "cell_type": "markdown",
   "source": [
    "### Advantage Analysis\n",
    "\n",
    "- **Unified Management**: Single state object manages multiple compartments, simplifying code structure\n",
    "- **Spatial Consistency**: Maintains spatial relationships and computational consistency between compartments\n",
    "- **Efficient Computation**: Vectorized operations improve computational efficiency"
   ],
   "id": "543a684812085286"
  },
  {
   "metadata": {},
   "cell_type": "markdown",
   "source": [
    "## `brainscale.ETraceTreeState` Class: Tree Structure State\n",
    "\n",
    "[`brainscale.ETraceTreeState`](../apis/generated/brainscale.ETraceTreeState.rst) provides the most flexible state management solution, supporting **PyTree tree structures**, suitable for neural network models with complex hierarchical relationships. It is a subclass of the `brainscale.ETraceState` class, inheriting all its attributes and methods.\n",
    "\n",
    "The following uses the GIF model as an example to demonstrate how to use the `brainscale.ETraceTreeState` class to define tree-structured state variables.\n",
    "\n",
    "### Advanced Application Example"
   ],
   "id": "6e5eb85a55007489"
  },
  {
   "metadata": {
    "ExecuteTime": {
     "end_time": "2025-07-22T03:23:56.020705Z",
     "start_time": "2025-07-22T03:23:56.017426Z"
    }
   },
   "cell_type": "code",
   "source": [
    "class GIF_tree(brainstate.nn.Neuron):\n",
    "    def init_state(self, *args, **kwargs):\n",
    "        self.state = brainscale.ETraceTreeState(\n",
    "            {\n",
    "                'I1': jnp.zeros(self.varshape) * u.mA,\n",
    "                'I2': jnp.zeros(self.varshape) * u.mA,\n",
    "                'V': brainstate.random.random(self.varshape) * u.mV,\n",
    "                'Vth': brainstate.random.uniform(1, 2, self.varshape) * u.mV\n",
    "            }\n",
    "        )"
   ],
   "id": "772fd43baf02272",
   "outputs": [],
   "execution_count": 9
  },
  {
   "metadata": {
    "ExecuteTime": {
     "end_time": "2025-07-22T03:23:56.179555Z",
     "start_time": "2025-07-22T03:23:56.037535Z"
    }
   },
   "cell_type": "code",
   "source": [
    "gif_tree = GIF_tree(5)\n",
    "gif_tree.init_state()"
   ],
   "id": "ea17432ed0cae166",
   "outputs": [],
   "execution_count": 10
  },
  {
   "metadata": {},
   "cell_type": "markdown",
   "source": "Each `brainscale.ETraceTreeState` instance represents a tree-structured state variable containing multiple sub-state variables. In this example, we defined four state variables: $I_1$, $I_2$, $V$, and $V_{th}$, which are organized into a tree structure.",
   "id": "14a7e2628981ecfb"
  },
  {
   "metadata": {
    "ExecuteTime": {
     "end_time": "2025-07-22T03:23:56.198680Z",
     "start_time": "2025-07-22T03:23:56.195399Z"
    }
   },
   "cell_type": "code",
   "source": "print(f\"Number of independent states in state tree: {gif_tree.state.num_state}\")",
   "id": "f351c7765e08ed1",
   "outputs": [
    {
     "name": "stdout",
     "output_type": "stream",
     "text": [
      "Number of independent states in state tree: 4\n"
     ]
    }
   ],
   "execution_count": 11
  },
  {
   "metadata": {},
   "cell_type": "markdown",
   "source": [
    "### Advantages of Tree Structure\n",
    "\n",
    "- **Hierarchical Organization**: Logically clear organization of complex state variables\n",
    "- **Flexible Access**: Support for nested access and partial updates\n",
    "- **Strong Extensibility**: Easy to add new state dimensions and functional modules\n",
    "- **Type Diversity**: Support for different types and shapes of state variables\n"
   ],
   "id": "b57c0f3ce91acee6"
  },
  {
   "metadata": {},
   "cell_type": "markdown",
   "source": [
    "## Summary\n",
    "\n",
    "The `ETraceState` class family in `brainscale` provides powerful and flexible state management solutions for neural network modeling:\n",
    "\n",
    "| Type | Applicable Scenarios | Advantages | Typical Applications |\n",
    "|------|---------------------|------------|---------------------|\n",
    "| `ETraceState` | Single state variable | Simple and intuitive, type-safe | Basic neuron models |\n",
    "| `ETraceGroupState` | Homogeneous multi-state | Unified management, efficient computation | Multi-compartment neurons |\n",
    "| `ETraceTreeState` | Complex hierarchical structures | Flexible organization, easy to extend | Advanced neural network models |\n",
    "\n",
    "Choosing the appropriate state management type can significantly improve code readability, maintainability, and computational efficiency, providing a solid foundation for building complex neural network models."
   ],
   "id": "d36f32c0ca3b77"
  }
 ],
 "metadata": {
  "kernelspec": {
   "display_name": "Python 3",
   "language": "python",
   "name": "python3"
  },
  "language_info": {
   "codemirror_mode": {
    "name": "ipython",
    "version": 2
   },
   "file_extension": ".py",
   "mimetype": "text/x-python",
   "name": "python",
   "nbconvert_exporter": "python",
   "pygments_lexer": "ipython2",
   "version": "2.7.6"
  }
 },
 "nbformat": 4,
 "nbformat_minor": 5
}
