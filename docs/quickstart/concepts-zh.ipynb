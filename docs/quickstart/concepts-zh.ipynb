{
 "cells": [
  {
   "cell_type": "markdown",
   "source": [
    "# 关键概念"
   ],
   "metadata": {
    "collapsed": false
   },
   "id": "28712d66ca25b58f"
  },
  {
   "cell_type": "markdown",
   "source": [
    "在这个章节，我将会介绍一些关键概念，这些概念是理解和使用``brainscale``在线学习的基础。这些概念包括：\n",
    "\n",
    "- 用于定制化网络模块的 模型状态``ETraceVar``、模型参数``ETraceParam``和 ``ETraceOp``。\n",
    "- 构建high-level神经网络模型。\n",
    "- 用于在线学习的算法 ``ETraceAlgorithm``。\n",
    "\n",
    "``brainscale``精密地整合在以``brainstate``为中心的[脑动力学编程生态系统](https://ecosystem-for-brain-dynamics.readthedocs.io/)中。我们强烈建议您首先熟悉[``brainstate``的基本用法](https://brainstate.readthedocs.io/)，以此能帮助您更好地理解``brainscale``的工作原理。"
   ],
   "metadata": {
    "collapsed": false
   },
   "id": "9efa89155606dc33"
  },
  {
   "cell_type": "code",
   "outputs": [],
   "source": [],
   "metadata": {
    "collapsed": false
   },
   "id": "848fc7b2e198e56f"
  },
  {
   "cell_type": "code",
   "outputs": [],
   "source": [],
   "metadata": {
    "collapsed": false
   },
   "id": "79a93e76d158d9f5"
  },
  {
   "cell_type": "code",
   "outputs": [],
   "source": [],
   "metadata": {
    "collapsed": false
   },
   "id": "dd42b2e8e51a6401"
  }
 ],
 "metadata": {
  "kernelspec": {
   "display_name": "Python 3",
   "language": "python",
   "name": "python3"
  },
  "language_info": {
   "codemirror_mode": {
    "name": "ipython",
    "version": 2
   },
   "file_extension": ".py",
   "mimetype": "text/x-python",
   "name": "python",
   "nbconvert_exporter": "python",
   "pygments_lexer": "ipython2",
   "version": "2.7.6"
  }
 },
 "nbformat": 4,
 "nbformat_minor": 5
}
