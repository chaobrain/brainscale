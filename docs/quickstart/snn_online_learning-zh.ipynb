{
 "cells": [
  {
   "cell_type": "markdown",
   "source": [
    "# 脉冲神经网络的在线学习\n",
    "\n",
    "\n",
    "在[关键概念](./concepts-zh.ipynb)一章中，我们介绍了`brainscale`在线学习的基础知识。在本节中，我们将讨论如何基于``brainscale``进行脉冲神经网络（Spiking Neural Networks，SNNs）的在线学习。\n",
    "\n",
    "基于发放率的循环神经网络（Rate-based RNNs）相比于脉冲神经网络（Spiking Neural Networks，SNNs）更广泛地应用于目前的深度学习任务中。在这种网络中，神经元的输出是连续的浮点数，而非像SNNs中的离散脉冲。``brainscale``提供的``DiagParamDimAlgorithm``算法可以非常高效地用于支持RNNs的在线学习。"
   ],
   "metadata": {
    "collapsed": false
   },
   "id": "59500c56c6226022"
  }
 ],
 "metadata": {
  "kernelspec": {
   "display_name": "Python 3",
   "language": "python",
   "name": "python3"
  },
  "language_info": {
   "codemirror_mode": {
    "name": "ipython",
    "version": 2
   },
   "file_extension": ".py",
   "mimetype": "text/x-python",
   "name": "python",
   "nbconvert_exporter": "python",
   "pygments_lexer": "ipython2",
   "version": "2.7.6"
  }
 },
 "nbformat": 4,
 "nbformat_minor": 5
}
