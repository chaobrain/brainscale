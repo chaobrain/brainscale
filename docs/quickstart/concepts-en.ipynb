{
 "cells": [
  {
   "cell_type": "markdown",
   "source": [
    "# Key Concepts"
   ],
   "metadata": {
    "collapsed": false
   },
   "id": "28712d66ca25b58f"
  },
  {
   "cell_type": "markdown",
   "source": [
    "In this section, I will introduce some of the key concepts that are fundamental to understanding and using online learning methods defined in ``brainscale`` . These concepts include:\n",
    "\n",
    "- Concepts related to customize neural network module: ``ETraceVar`` for hidden states, ``ETraceParam`` for weight parameters, and ``ETraceOp`` for input-to-hidden transition.\n",
    "- Concepts related to build high-Level Neural Networks.\n",
    "- Concepts for online learning algorithms ``ETraceAlgorithm``.\n",
    "\n",
    "``brainscale`` is seamlessly integrated in the [brain dynamics programming ecosystem](https://ecosystem-for-brain-dynamics.readthedocs.io/) centred on ``brainstate``. We strongly recommend that you first familiarise yourself with [basic usage of ``brainstate``](https://brainstate.readthedocs.io/), as this will help you better understand how ``brainscale`` works.\n"
   ],
   "metadata": {
    "collapsed": false
   },
   "id": "9efa89155606dc33"
  },
  {
   "cell_type": "code",
   "outputs": [],
   "source": [],
   "metadata": {
    "collapsed": false
   },
   "id": "848fc7b2e198e56f"
  },
  {
   "cell_type": "code",
   "outputs": [],
   "source": [],
   "metadata": {
    "collapsed": false
   },
   "id": "79a93e76d158d9f5"
  },
  {
   "cell_type": "code",
   "outputs": [],
   "source": [],
   "metadata": {
    "collapsed": false
   },
   "id": "dd42b2e8e51a6401"
  }
 ],
 "metadata": {
  "kernelspec": {
   "display_name": "Python 3",
   "language": "python",
   "name": "python3"
  },
  "language_info": {
   "codemirror_mode": {
    "name": "ipython",
    "version": 2
   },
   "file_extension": ".py",
   "mimetype": "text/x-python",
   "name": "python",
   "nbconvert_exporter": "python",
   "pygments_lexer": "ipython2",
   "version": "2.7.6"
  }
 },
 "nbformat": 4,
 "nbformat_minor": 5
}
